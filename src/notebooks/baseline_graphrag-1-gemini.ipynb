{
 "cells": [
  {
   "cell_type": "code",
   "execution_count": 1,
   "metadata": {},
   "outputs": [
    {
     "name": "stdout",
     "output_type": "stream",
     "text": [
      "weave version 0.51.23 is available!  To upgrade, please run:\n",
      " $ pip install weave --upgrade\n",
      "Logged in as Weights & Biases user: vedmanivaidya.\n",
      "View Weave data at https://wandb.ai/vedmanivaidya/graphrag-poc/weave\n"
     ]
    },
    {
     "data": {
      "text/plain": [
       "<weave.trace.weave_client.WeaveClient at 0x2af548f5050>"
      ]
     },
     "execution_count": 1,
     "metadata": {},
     "output_type": "execute_result"
    }
   ],
   "source": [
    "import weave\n",
    "weave.init(\"graphrag-poc\")"
   ]
  },
  {
   "cell_type": "code",
   "execution_count": 1,
   "metadata": {},
   "outputs": [],
   "source": [
    "# Enable auto-reloading of modules\n",
    "%load_ext autoreload\n",
    "%autoreload 2"
   ]
  },
  {
   "cell_type": "code",
   "execution_count": 2,
   "metadata": {},
   "outputs": [],
   "source": [
    "# import logging\n",
    " \n",
    "# # Configure logging to write to a file, setting the level to INFO\n",
    "# logging.basicConfig(level=logging.DEBUG,\n",
    "#                     format='%(asctime)s - %(levelname)s - %(message)s',\n",
    "#                     filename='app.log',  # Log messages are written to this file\n",
    "#                     filemode='a')  # Append mode\n",
    " \n",
    "# # Create a StreamHandler to output logs to the console as well\n",
    "# console_handler = logging.StreamHandler()\n",
    "# console_handler.setLevel(logging.DEBUG)  # Set the log level for the console\n",
    "# formatter = logging.Formatter('%(asctime)s - %(levelname)s - %(message)s')\n",
    "# console_handler.setFormatter(formatter)\n",
    " \n",
    "# # Add the console handler to the root logger\n",
    "# logging.getLogger('').addHandler(console_handler)"
   ]
  },
  {
   "cell_type": "code",
   "execution_count": 3,
   "metadata": {},
   "outputs": [],
   "source": [
    "from llama_index.embeddings.azure_openai import AzureOpenAIEmbedding\n",
    "from llama_index.llms.azure_openai import AzureOpenAI\n",
    "from dotenv import load_dotenv\n",
    "import os\n",
    "\n",
    "load_dotenv()\n",
    "\n",
    "from llama_index.llms.gemini import Gemini\n",
    "from llama_index.embeddings.gemini import GeminiEmbedding\n",
    "\n",
    "from llama_index.core.schema import NodeWithScore, MetadataMode\n"
   ]
  },
  {
   "cell_type": "code",
   "execution_count": 4,
   "metadata": {},
   "outputs": [
    {
     "data": {
      "text/plain": [
       "1536"
      ]
     },
     "execution_count": 4,
     "metadata": {},
     "output_type": "execute_result"
    }
   ],
   "source": [
    "from llama_index.embeddings.azure_openai import AzureOpenAIEmbedding\n",
    "from llama_index.llms.azure_openai import AzureOpenAI\n",
    "from dotenv import load_dotenv\n",
    "import os\n",
    "\n",
    "load_dotenv()\n",
    "openai_llm = AzureOpenAI(\n",
    "    model=os.getenv(\"DEPLOYMENT_NAME\"),\n",
    "    deployment_name=os.getenv(\"DEPLOYMENT_NAME\"),\n",
    "    api_key=os.getenv(\"AZURE_OPENAI_API_KEY\"),\n",
    "    azure_endpoint=os.getenv(\"AZURE_OPENAI_ENDPOINT\"),\n",
    "    api_version=os.getenv(\"OPENAI_API_VERSION\"),\n",
    "    temperature=0.0,\n",
    ")\n",
    "openai_embed_model = AzureOpenAIEmbedding(\n",
    "    model=\"text-embedding-ada-002\",\n",
    "    # deployment_name=\"my-custom-embedding\",\n",
    "    api_key=os.getenv(\"AZURE_OPENAI_API_KEY\"),\n",
    "    azure_endpoint=os.getenv(\"AZURE_OPENAI_ENDPOINT\"),\n",
    "    api_version=os.getenv(\"OPENAI_API_VERSION\"),\n",
    ")\n",
    "embeddings = openai_embed_model.get_text_embedding(\"Hello, world!\")\n",
    "len(embeddings)"
   ]
  },
  {
   "cell_type": "code",
   "execution_count": 5,
   "metadata": {},
   "outputs": [
    {
     "data": {
      "text/plain": [
       "768"
      ]
     },
     "execution_count": 5,
     "metadata": {},
     "output_type": "execute_result"
    }
   ],
   "source": [
    "gemini_llm = Gemini(\n",
    "    model=\"models/gemini-1.5-flash-latest\",\n",
    "    temperature=0.0,\n",
    ")\n",
    "gemini_embed_model = GeminiEmbedding()\n",
    "embeddings = gemini_embed_model.get_text_embedding(\"Hello, world!\")\n",
    "len(embeddings)"
   ]
  },
  {
   "cell_type": "code",
   "execution_count": 6,
   "metadata": {},
   "outputs": [],
   "source": [
    "from llama_index.core import Settings\n",
    "\n",
    "Settings.llm = gemini_llm\n",
    "Settings.embed_model = gemini_embed_model"
   ]
  },
  {
   "cell_type": "code",
   "execution_count": 7,
   "metadata": {},
   "outputs": [],
   "source": [
    "import nest_asyncio\n",
    "\n",
    "nest_asyncio.apply()"
   ]
  },
  {
   "cell_type": "code",
   "execution_count": 8,
   "metadata": {},
   "outputs": [],
   "source": [
    "from llama_index.core import SimpleDirectoryReader\n",
    "\n",
    "documents = SimpleDirectoryReader(\n",
    "    \"D:\\projects\\graphrag-poc\\data\\selection 1\"\n",
    ").load_data()"
   ]
  },
  {
   "cell_type": "code",
   "execution_count": 9,
   "metadata": {},
   "outputs": [],
   "source": [
    "from graphrag_poc.custom_llama_index.custom_neo4j_property_graph import Neo4jPropertyGraphStore\n",
    "\n",
    "graph_store = Neo4jPropertyGraphStore(\n",
    "    username=\"neo4j\",\n",
    "    password=\"12345678\",\n",
    "    url=\"bolt://localhost:7687\",\n",
    "    database=\"graphrag-openai-custom-extractor-prompt-gemini\",\n",
    "    refresh_schema=False,\n",
    ")"
   ]
  },
  {
   "cell_type": "code",
   "execution_count": 30,
   "metadata": {},
   "outputs": [
    {
     "data": {
      "text/plain": [
       "[TextNode(id_='16c29ab7-ddb1-4bd8-b875-6554ffc07a96', embedding=None, metadata={'file_path': \"D:\\\\projects\\\\graphrag-poc\\\\data\\\\selection 1\\\\A Student's Guide to Startups (HIVE).txt\", 'file_name': \"A Student's Guide to Startups (HIVE).txt\", 'file_type': 'text/plain', 'file_size': 35856, 'creation_date': '2024-11-26', 'last_modified_date': '2024-11-20'}, excluded_embed_metadata_keys=['file_name', 'file_type', 'file_size', 'creation_date', 'last_modified_date', 'last_accessed_date'], excluded_llm_metadata_keys=['file_name', 'file_type', 'file_size', 'creation_date', 'last_modified_date', 'last_accessed_date'], relationships={<NodeRelationship.SOURCE: '1'>: RelatedNodeInfo(node_id='89726fb7-4d79-4142-8bd4-c43cac27e169', node_type='4', metadata={'file_path': \"D:\\\\projects\\\\graphrag-poc\\\\data\\\\selection 1\\\\A Student's Guide to Startups (HIVE).txt\", 'file_name': \"A Student's Guide to Startups (HIVE).txt\", 'file_type': 'text/plain', 'file_size': 35856, 'creation_date': '2024-11-26', 'last_modified_date': '2024-11-20'}, hash='c93d2695e878542a3875974944596c8b180c2788d87dcb71a104c6ec2a8753c2'), <NodeRelationship.NEXT: '3'>: RelatedNodeInfo(node_id='e33dc8f3-f440-4523-bbbd-00f9353a2208', node_type='1', metadata={}, hash='29020a1fb006e286a95962fd6bf240f9aaac36426c8178b9d24b2f79e7a05e6c')}, metadata_template='{key}: {value}', metadata_separator='\\n', text=\"October 2006 (This essay is derived from a talk at MIT.) Till recently graduating seniors had two choices: get a job or go to grad school. I think there will increasingly be a third option: to start your own startup. But how common will that be? I'm sure the default will always be to get a job, but starting a startup could well become as popular as grad school. In the late 90s my professor friends used to complain that they couldn't get grad students, because all the undergrads were going to work for startups. I wouldn't be surprised if that situation returns, but with one difference: this time they'll be starting their own instead of going to work for other people's. The most ambitious students will at this point be asking: Why wait till you graduate? Why not start a startup while you're in college? In fact, why go to college at all? Why not start a startup instead? A year and a half ago I gave a talk where I said that the average age of the founders of Yahoo, Google, and Microsoft was 24, and that if grad students could start startups, why not undergrads? I'm glad I phrased that as a question, because now I can pretend it wasn't merely a rhetorical one. At the time I couldn't imagine why there should be any lower limit for the age of startup founders. Graduation is a bureaucratic change, not a biological one. And certainly there are undergrads as competent technically as most grad students. So why shouldn't undergrads be able to start startups as well as grad students? I now realize that something does change at graduation: you lose a huge excuse for failing. Regardless of how complex your life is, you'll find that everyone else, including your family and friends, will discard all the low bits and regard you as having a single occupation at any given time. If you're in college and have a summer job writing software, you still read as a student. Whereas if you graduate and get a job programming, you'll be instantly regarded by everyone as a programmer. The problem with starting a startup while you're still in school is that there's a built-in escape hatch. If you start a startup in the summer between your junior and senior year, it reads to everyone as a summer job. So if it goes nowhere, big deal; you return to school in the fall with all the other seniors; no one regards you as a failure, because your occupation is student, and you didn't fail at that. Whereas if you start a startup just one year later, after you graduate, as long as you're not accepted to grad school in the fall the startup reads to everyone as your occupation. You're now a startup founder, so you have to do well at that. For nearly everyone, the opinion of one's peers is the most powerful motivator of allâ€”more powerful even than the nominal goal of most startup founders, getting rich. [ 1 ] About a month into each funding cycle we have an event called Prototype Day where each startup presents to the others what they've got so far. You might think they wouldn't need any more motivation. They're working on their cool new idea; they have funding for the immediate future; and they're playing a game with only two outcomes: wealth or failure. You'd think that would be motivation enough. And yet the prospect of a demo pushes most of them into a rush of activity. Even if you start a startup explicitly to get rich, the money you might get seems pretty theoretical most of the time. What drives you day to day is not wanting to look bad. You probably can't change that. Even if you could, I don't think you'd want to; someone who really, truly doesn't care what his peers think of him is probably a psychopath. So the best you can do is consider this force like a wind, and set up your boat accordingly. If you know your peers are going to push you in some direction, choose good peers, and position yourself so they push you in a direction you like. Graduation changes the prevailing winds, and those make a difference. Starting a startup is so hard that it's a close call even for the ones that succeed. However high a startup may be flying now, it probably has a few leaves stuck in the landing gear from those trees it barely cleared at the end of the runway. In such a close game, the smallest increase in the forces against you can be enough to flick you over the edge into failure. When we first started Y Combinator we encouraged people to start startups while they were still in college.\", mimetype='text/plain', start_char_idx=0, end_char_idx=4421, metadata_seperator='\\n', text_template='{metadata_str}\\n\\n{content}')]"
      ]
     },
     "execution_count": 30,
     "metadata": {},
     "output_type": "execute_result"
    }
   ],
   "source": [
    "graph_store.get_llama_nodes([\"16c29ab7-ddb1-4bd8-b875-6554ffc07a96\"])"
   ]
  },
  {
   "cell_type": "code",
   "execution_count": 10,
   "metadata": {},
   "outputs": [
    {
     "name": "stdout",
     "output_type": "stream",
     "text": [
      "8\n"
     ]
    }
   ],
   "source": [
    "from llama_index.core.node_parser import SentenceSplitter\n",
    "\n",
    "splitter = SentenceSplitter(\n",
    "    chunk_size=1024,\n",
    "    chunk_overlap=50,\n",
    ")\n",
    "nodes = splitter.get_nodes_from_documents(documents)\n",
    "len(nodes)\n",
    "# create a list of lists each of 10 nodes\n",
    "nodes_list = [nodes[i : i + 10] for i in range(0, len(nodes), 10)]\n",
    "print(len(nodes_list))"
   ]
  },
  {
   "cell_type": "code",
   "execution_count": 11,
   "metadata": {},
   "outputs": [],
   "source": [
    "prompt_template = (\n",
    "    \"You are a knowledge graph expert specializing in extracting structured information from text about startup founders, companies, and entrepreneurship guidance, particularly from Paul Graham's writings.\"\n",
    "    \"\\nYour task is to extract up to {max_knowledge_triplets} knowledge triplets from the provided text. \"\n",
    "    \"\\n If there are more triplets that can be extracted, then extract as many as needed to capture all the information\"\n",
    "    \"A knowledge triplet consists of (head, relation, tail) along with their types and properties.\"\n",
    "    \"\\n\\nCONTEXT AWARENESS:\"\n",
    "    \"\\n- Focus on startup-related entities: founders, companies, investors, concepts\"\n",
    "    \"\\n- Identify key entrepreneurship principles and advice\"\n",
    "    \"\\n- Capture relationships between people, organizations, and ideas\"\n",
    "    \"\\n- Extract time-sensitive information when available (founded_date, funding_rounds, etc.)\"\n",
    "    \"\\n---------------------\\n\"\n",
    "    \"INITIAL ONTOLOGY:\\n\"\n",
    "    \"Entity Types: {allowed_entity_types}\\n\"\n",
    "    \"Entity Properties: {allowed_entity_properties}\\n\"\n",
    "    \"Relation Types: {allowed_relation_types}\\n\"\n",
    "    \"Relation Properties: {allowed_relation_properties}\\n\"\n",
    "    \"\\n\"\n",
    "    \"Use these types as a starting point, but introduce new types if necessary based on the context.\\n\"\n",
    "    \"If the Entity Properties, Relation Properties contain property 'description', generate a context aware detailed description, which will have some uniqe non generic information addition\"\n",
    "    \"\\n\"\n",
    "    \"GUIDELINES:\\n\"\n",
    "    \"- Output in JSON format: [{{'head': '', 'head_type': '', 'head_props': {{...}}, 'relation': '', 'relation_props': {{...}}, 'tail': '', 'tail_type': '', 'tail_props': {{...}}}}]\\n\"\n",
    "    \"- Use the most complete form for entities (e.g., 'United States of America' instead of 'USA') but where its ambiguous, use the entity as it is\\n\"\n",
    "    \"- Keep entities concise\\n\"\n",
    "    \"- While writing description property for entities and relations keep context in mind and just dont write the description of the entity or relation, but the description of the entity or relation in the context of the text\\n\"\n",
    "    \"- Ensure the knowledge graph is coherent and easily understandable\\n\"\n",
    "    \"- While extracting relation, use singular form of the relation. Use EXPAND instead of EXPANDS or EXPECT instead of EXPECTS\\n\"\n",
    "    \"- The goal is to make relations as generics as possible, so that there are less duplicate relations in the graph, which have same meaning\\n\"\n",
    "    \"- If there are two names present in the text treat them as separate entities. For example Jessica Livingston and Robert Morris then they are two separate entities Jessica Livingston, Robert Morris\\n\"\n",
    "    \"- Focus on startup-specific metrics and relationships (funding rounds, valuations, mentor relationships)\\n\"\n",
    "    \"- Capture temporal aspects of relationships when mentioned (founding dates, acquisition dates)\\n\"\n",
    "    \"- Include relevant contextual properties (industry sector, technology stack, market focus)\\n\"\n",
    "    \"---------------------\\n\"\n",
    "    \"EXAMPLE:\\n\"\n",
    "    \"Text Input: \\nTim Cook, CEO of Apple Inc., announced the new Apple Watch that monitors heart health. \"\n",
    "    \"UC Berkeley researchers studied the benefits of apples.\\n\"\n",
    "    \"Example Output:\\n\"\n",
    "    \"[{{'head': 'Tim Cook', 'head_type': 'PERSON', 'head_props': {{'description': 'Technology executive who made the product announcement for Apple Watch, demonstrating leadership in health-focused technology initiatives'}}, 'relation': 'CEO_OF', 'relation_props': {{'description': 'Executive leadership role involving product announcements and strategic health technology initiatives'}}, 'tail': 'Apple Inc.', 'tail_type': 'COMPANY', 'tail_props': {{'description': 'Technology company expanding into health monitoring through wearable devices'}}}},\\n\"\n",
    "    \" {{'head': 'Apple Inc.', 'head_type': 'COMPANY', 'head_props': {{'description': 'Company developing health-focused consumer technology products under Tim Cook's leadership'}}, 'relation': 'PRODUCE', 'relation_props': {{'description': 'Strategic initiative to enter health monitoring market through consumer devices'}}, 'tail': 'Apple Watch', 'tail_type': 'PRODUCT', 'tail_props': {{'description': 'Health-focused smartwatch representing Apple's expansion into medical monitoring technology'}}}},\\n\"\n",
    "    \" {{'head': 'Apple Watch', 'head_type': 'PRODUCT', 'head_props': {{'description': 'Wearable device specifically designed to track and monitor user health metrics'}}, 'relation': 'MONITOR', 'relation_props': {{'description': 'Continuous health monitoring capability focusing on cardiac metrics'}}, 'tail': 'heart health', 'tail_type': 'HEALTH_METRIC', 'tail_props': {{'description': 'Critical health metric monitored through Apple Watch's advanced sensors'}}}},\\n\"\n",
    "    \" {{'head': 'UC Berkeley', 'head_type': 'UNIVERSITY', 'head_props': {{'description': 'Academic institution conducting research on nutritional benefits and health impacts'}}, 'relation': 'STUDY', 'relation_props': {{'description': 'Academic research focusing on health benefits and nutritional value analysis'}}, 'tail': 'benefits of apples', 'tail_type': 'RESEARCH_TOPIC', 'tail_props': {{'description': 'Scientific investigation into the health advantages and nutritional properties of apples'}}}}]\\n\"\n",
    "    \"---------------------\\n\"\n",
    "    \"MAKE SURE TO FOLLOW THE EXAMPLE FORMAT STRICTLY FOR EACH KNOWLEDGE TRIPLET AND GIVE THE OUTPUT IN JSON LIST FORMAT ONLY AS ITS PARSED USING CODE AND IT NEEDS TO MATCH THE EXAMPLE FORMAT STRICTLY\"\n",
    "    \"Text: {text}\\n\"\n",
    "    \"Output:\\n\"\n",
    ")"
   ]
  },
  {
   "cell_type": "code",
   "execution_count": 12,
   "metadata": {},
   "outputs": [],
   "source": [
    "from typing import Any, Dict, List, Tuple\n",
    "import re\n",
    "import json\n",
    "from llama_index.core.graph_stores.types import (\n",
    "    EntityNode,\n",
    "    Relation,\n",
    ")\n",
    "\n",
    "def parse_dynamic_triplets_with_props(\n",
    "    llm_output: str,\n",
    ") -> List[Tuple[EntityNode, Relation, EntityNode]]:\n",
    "    \"\"\"\n",
    "    Parse the LLM output and convert it into a list of entity-relation-entity triplets.\n",
    "    This function is flexible and can handle various output formats.\n",
    "\n",
    "    Args:\n",
    "        llm_output (str): The output from the LLM, which may be JSON-like or plain text.\n",
    "\n",
    "    Returns:\n",
    "        List[Tuple[EntityNode, Relation, EntityNode]]: A list of triplets.\n",
    "    \"\"\"\n",
    "    triplets = []\n",
    "\n",
    "    try:\n",
    "        #first extract the json from markdown\n",
    "        llm_output = re.search(r'```json\\s*([\\s\\S]*)\\s*```', llm_output).group(1)\n",
    "        # Attempt to parse the output as JSON\n",
    "        data = json.loads(llm_output)\n",
    "        for item in data:\n",
    "            head = item.get(\"head\")\n",
    "            head_type = item.get(\"head_type\")\n",
    "            head_props = item.get(\"head_props\", {})\n",
    "            relation = item.get(\"relation\")\n",
    "            relation_props = item.get(\"relation_props\", {})\n",
    "            tail = item.get(\"tail\")\n",
    "            tail_type = item.get(\"tail_type\")\n",
    "            tail_props = item.get(\"tail_props\", {})\n",
    "\n",
    "            if head and head_type and relation and tail and tail_type:\n",
    "                head_node = EntityNode(\n",
    "                    name=head, label=head_type, properties=head_props\n",
    "                )\n",
    "                tail_node = EntityNode(\n",
    "                    name=tail, label=tail_type, properties=tail_props\n",
    "                )\n",
    "                relation_node = Relation(\n",
    "                    source_id=head_node.id,\n",
    "                    target_id=tail_node.id,\n",
    "                    label=relation,\n",
    "                    properties=relation_props,\n",
    "                )\n",
    "                triplets.append((head_node, relation_node, tail_node))\n",
    "    except json.JSONDecodeError:\n",
    "        # Flexible pattern to match the key-value pairs for head, head_type, head_props, relation, relation_props, tail, tail_type, and tail_props\n",
    "        pattern = r'[\\{\"\\']head[\\}\"\\']\\s*:\\s*[\\{\"\\'](.*?)[\\}\"\\']\\s*,\\s*[\\{\"\\']head_type[\\}\"\\']\\s*:\\s*[\\{\"\\'](.*?)[\\}\"\\']\\s*,\\s*[\\{\"\\']head_props[\\}\"\\']\\s*:\\s*\\{(.*?)\\}\\s*,\\s*[\\{\"\\']relation[\\}\"\\']\\s*:\\s*[\\{\"\\'](.*?)[\\}\"\\']\\s*,\\s*[\\{\"\\']relation_props[\\}\"\\']\\s*:\\s*\\{(.*?)\\}\\s*,\\s*[\\{\"\\']tail[\\}\"\\']\\s*:\\s*[\\{\"\\'](.*?)[\\}\"\\']\\s*,\\s*[\\{\"\\']tail_type[\\}\"\\']\\s*:\\s*[\\{\"\\'](.*?)[\\}\"\\']\\s*,\\s*[\\{\"\\']tail_props[\\}\"\\']\\s*:\\s*\\{(.*?)\\}\\s*'\n",
    "\n",
    "        # Find all matches in the output\n",
    "        matches = re.findall(pattern, llm_output)\n",
    "\n",
    "        for match in matches:\n",
    "            (\n",
    "                head,\n",
    "                head_type,\n",
    "                head_props,\n",
    "                relation,\n",
    "                relation_props,\n",
    "                tail,\n",
    "                tail_type,\n",
    "                tail_props,\n",
    "            ) = match\n",
    "\n",
    "            # Use more robust parsing for properties\n",
    "            def parse_props(props_str: str) -> Dict[str, Any]:\n",
    "                try:\n",
    "                    # Handle mixed quotes and convert to a proper dictionary\n",
    "                    props_str = props_str.replace(\"'\", '\"')\n",
    "                    return json.loads(f\"{{{props_str}}}\")\n",
    "                except json.JSONDecodeError:\n",
    "                    return {}\n",
    "\n",
    "            head_props_dict = parse_props(head_props)\n",
    "            relation_props_dict = parse_props(relation_props)\n",
    "            tail_props_dict = parse_props(tail_props)\n",
    "\n",
    "            head_node = EntityNode(\n",
    "                name=head, label=head_type, properties=head_props_dict\n",
    "            )\n",
    "            tail_node = EntityNode(\n",
    "                name=tail, label=tail_type, properties=tail_props_dict\n",
    "            )\n",
    "            relation_node = Relation(\n",
    "                source_id=head_node.id,\n",
    "                target_id=tail_node.id,\n",
    "                label=relation,\n",
    "                properties=relation_props_dict,\n",
    "            )\n",
    "            triplets.append((head_node, relation_node, tail_node))\n",
    "    return triplets"
   ]
  },
  {
   "cell_type": "code",
   "execution_count": 13,
   "metadata": {},
   "outputs": [],
   "source": [
    "from llama_index.core.indices.property_graph import DynamicLLMPathExtractor\n",
    "\n",
    "dyn_llm_path_extractor = DynamicLLMPathExtractor(\n",
    "    llm=Settings.llm,\n",
    "    allowed_entity_props=[\"description\"],\n",
    "    allowed_relation_props=[\"description\"],\n",
    "    extract_prompt=prompt_template,\n",
    "    parse_fn=parse_dynamic_triplets_with_props,\n",
    ")"
   ]
  },
  {
   "cell_type": "code",
   "execution_count": 15,
   "metadata": {},
   "outputs": [],
   "source": [
    "# from llama_index.vector_stores.neo4jvector import Neo4jVectorStore\n",
    "# neo4j_vector = Neo4jVectorStore(\n",
    "#     username=\"neo4j\",\n",
    "#     password=\"12345678\",\n",
    "#     url=\"bolt://localhost:7687\",\n",
    "#     database=\"graphrag-openai-custom-extractor-prompt-gemini\",\n",
    "#     hybrid_search = True,\n",
    "#     embedding_dimension=768\n",
    "# )\n"
   ]
  },
  {
   "cell_type": "code",
   "execution_count": 14,
   "metadata": {},
   "outputs": [],
   "source": [
    "from llama_index.core import PropertyGraphIndex\n",
    "# from llama_index.core.indices.property_graph import SimpleLLMPathExtractor\n",
    "\n",
    "# index = PropertyGraphIndex(\n",
    "#     nodes_list[0],\n",
    "#     embed_model=Settings.embed_model,\n",
    "#     kg_extractors=[dyn_llm_path_extractor],\n",
    "#     property_graph_store=graph_store,\n",
    "#     show_progress=True,\n",
    "# )\n",
    "\n",
    "index = PropertyGraphIndex.from_existing(\n",
    "    # vector_store=neo4j_vector,\n",
    "    property_graph_store=graph_store,\n",
    "    llm=Settings.llm,\n",
    "    embed_model=Settings.embed_model,\n",
    "    kg_extractors=[dyn_llm_path_extractor],\n",
    "    show_progress=True,\n",
    ")"
   ]
  },
  {
   "cell_type": "code",
   "execution_count": 17,
   "metadata": {},
   "outputs": [],
   "source": [
    "# index._insert_nodes(nodes_list[1])"
   ]
  },
  {
   "cell_type": "code",
   "execution_count": 18,
   "metadata": {},
   "outputs": [],
   "source": [
    "# index._insert_nodes(nodes_list[2])"
   ]
  },
  {
   "cell_type": "code",
   "execution_count": 19,
   "metadata": {},
   "outputs": [],
   "source": [
    "# import time\n",
    "# index._insert_nodes(nodes_list[3])\n",
    "# time.sleep(60)\n",
    "# index._insert_nodes(nodes_list[4])\n",
    "# time.sleep(60)\n",
    "# index._insert_nodes(nodes_list[5])\n",
    "# time.sleep(60)\n",
    "# index._insert_nodes(nodes_list[6])\n",
    "# time.sleep(60)\n",
    "# index._insert_nodes(nodes_list[7])"
   ]
  },
  {
   "cell_type": "code",
   "execution_count": 20,
   "metadata": {},
   "outputs": [],
   "source": [
    "# graph_store.structured_query(\"\"\"\n",
    "# CREATE VECTOR INDEX entity IF NOT EXISTS\n",
    "# FOR (m:`__Entity__`)\n",
    "# ON m.embedding\n",
    "# OPTIONS {indexConfig: {\n",
    "#  `vector.dimensions`: 1536,\n",
    "#  `vector.similarity_function`: 'cosine'\n",
    "# }}\n",
    "# \"\"\")"
   ]
  },
  {
   "cell_type": "code",
   "execution_count": 21,
   "metadata": {},
   "outputs": [],
   "source": [
    "# similarity_threshold = 0.9\n",
    "# word_edit_distance = 4\n",
    "# data = graph_store.structured_query(\"\"\"\n",
    "# MATCH (e:__Entity__)\n",
    "# CALL {\n",
    "#   WITH e\n",
    "#   CALL db.index.vector.queryNodes('entity', 10, e.embedding)\n",
    "#   YIELD node, score\n",
    "#   WITH node, score\n",
    "#   WHERE score > toFLoat($cutoff)\n",
    "#       AND (toLower(node.name) CONTAINS toLower(e.name) OR toLower(e.name) CONTAINS toLower(node.name)\n",
    "#            OR apoc.text.distance(toLower(node.name), toLower(e.name)) < $distance)\n",
    "#       AND labels(e) = labels(node)\n",
    "#   WITH node, score\n",
    "#   ORDER BY node.name\n",
    "#   RETURN collect(node) AS nodes\n",
    "# }\n",
    "# WITH distinct nodes\n",
    "# WHERE size(nodes) > 1\n",
    "# WITH collect([n in nodes | n.name]) AS results\n",
    "# UNWIND range(0, size(results)-1, 1) as index\n",
    "# WITH results, index, results[index] as result\n",
    "# WITH apoc.coll.sort(reduce(acc = result, index2 IN range(0, size(results)-1, 1) |\n",
    "#         CASE WHEN index <> index2 AND\n",
    "#             size(apoc.coll.intersection(acc, results[index2])) > 0\n",
    "#             THEN apoc.coll.union(acc, results[index2])\n",
    "#             ELSE acc\n",
    "#         END\n",
    "# )) as combinedResult\n",
    "# WITH distinct(combinedResult) as combinedResult\n",
    "# // extra filtering\n",
    "# WITH collect(combinedResult) as allCombinedResults\n",
    "# UNWIND range(0, size(allCombinedResults)-1, 1) as combinedResultIndex\n",
    "# WITH allCombinedResults[combinedResultIndex] as combinedResult, combinedResultIndex, allCombinedResults\n",
    "# WHERE NOT any(x IN range(0,size(allCombinedResults)-1,1) \n",
    "#     WHERE x <> combinedResultIndex\n",
    "#     AND apoc.coll.containsAll(allCombinedResults[x], combinedResult)\n",
    "# )\n",
    "# RETURN combinedResult  \n",
    "# \"\"\", param_map={'cutoff': similarity_threshold, 'distance': word_edit_distance})\n",
    "# for row in data:\n",
    "#     print(row)"
   ]
  },
  {
   "cell_type": "code",
   "execution_count": 15,
   "metadata": {},
   "outputs": [],
   "source": [
    "from llama_index.core import PromptTemplate\n",
    "\n",
    "prompt_template = \"\"\"\n",
    "You are an expert qna assistant tasked with providing comprehensive, well-structured answers based SOLELY on the given context. Your role is to synthesize and explain information from the provided context without adding external knowledge or making assumptions.\n",
    " \n",
    "1. Context Adherence:\n",
    "- ONLY use information that is explicitly present in the provided context\n",
    "- Do not add external knowledge, even if you know it's correct\n",
    "- If the context is insufficient to fully answer the question, acknowledge the limitations of available information\n",
    "- Do not make assumptions or inferences beyond what's directly supported by the context\n",
    "- If certain aspects of the question cannot be answered from the context, clearly state this rather than making up information\n",
    " \n",
    "2. Answer Structure:\n",
    "- Break down the answer into clear, numbered points when appropriate\n",
    "- Use bold formatting for key concepts using **text**\n",
    "- Maintain a logical flow from one point to the next\n",
    "- End with a brief summary that ties the main points together\n",
    " \n",
    "3. Content Development:\n",
    "- Expand on the context provided while staying strictly within its boundaries\n",
    "- Provide detailed explanations for each major point using only information from the context\n",
    "- Include relevant examples or implications only if present in the context\n",
    "- Connect related concepts to show relationships and broader impact\n",
    "- Ensure each point is substantive and supported by the source material\n",
    " \n",
    "4. Language and Tone:\n",
    "- Use clear, professional language\n",
    "- Maintain an authoritative but accessible tone\n",
    "- Define technical terms when they appear in the context\n",
    "- Be precise and specific in explanations\n",
    "- Use active voice when possible\n",
    " \n",
    "5. Quality Control:\n",
    "- Verify every statement against the provided context\n",
    "- If the context is ambiguous or unclear, reflect this uncertainty in your answer\n",
    "- When multiple sources discuss the same point, synthesize them coherently\n",
    "- Address only those aspects of the question that can be answered from the given context\n",
    " \n",
    "Remember: Your primary responsibility is to provide accurate responses based EXCLUSIVELY on the provided context. Never supplement the answer with external knowledge or assumptions, even if they would make the answer more complete.\n",
    "\n",
    "Context information is provided below.\n",
    "---------------------\n",
    "{context_str}\n",
    "---------------------\n",
    "Please answer the following question based on this context: {query_str}\n",
    "---------------------\n",
    "Answer:\n",
    "\"\"\"\n",
    "\n",
    "custom_prompt = PromptTemplate(prompt_template)\n"
   ]
  },
  {
   "cell_type": "code",
   "execution_count": 24,
   "metadata": {},
   "outputs": [],
   "source": [
    "from llama_index.core.indices.property_graph import (\n",
    "    LLMSynonymRetriever,\n",
    "    VectorContextRetriever\n",
    ")\n",
    "\n",
    "from llama_index.core.vector_stores.types import VectorStoreQueryMode\n",
    "\n",
    "from graphrag_poc.custom_llama_index.custom_vector_retriever import CustomVectorContextRetriever\n",
    "\n",
    "# vector_retriever = VectorContextRetriever(\n",
    "#      graph_store,\n",
    "#      embed_model=Settings.embed_model,\n",
    "#     #  similarity_top_k=4,\n",
    "#      path_depth=3,\n",
    "#      include_text=True,\n",
    "#      similarity_score=0.7,\n",
    "#      limit=10,\n",
    "#      similarity_top_k=10,\n",
    "# )\n",
    "\n",
    "llm_synonym_retriever = LLMSynonymRetriever(\n",
    "    graph_store=graph_store,\n",
    "    include_text=True,\n",
    "    # include_properties=True,\n",
    "    max_keywords=20,\n",
    "    llm=Settings.llm,\n",
    ")\n",
    "\n",
    "custom_vector_retriever = CustomVectorContextRetriever(\n",
    "     graph_store,\n",
    "     embed_model=Settings.embed_model,\n",
    "     path_depth=3,\n",
    "     include_text=True,\n",
    "     similarity_score=0.7,\n",
    "     limit=100,\n",
    "     similarity_top_k=10,\n",
    "     mode=VectorStoreQueryMode.HYBRID,\n",
    "     hybrid_top_k=10,\n",
    "    #  alpha=0.75\n",
    ")"
   ]
  },
  {
   "cell_type": "code",
   "execution_count": 25,
   "metadata": {},
   "outputs": [
    {
     "name": "stdout",
     "output_type": "stream",
     "text": [
      "The provided text states that the decrease in the percentage of inherited wealth among the richest Americans from 1982 to 2020 is not due to increased inheritance taxes; in fact, these taxes decreased significantly during that period.  Instead, the decline is attributed to the rise of individuals creating their own wealth.  This increase in self-made fortunes is primarily driven by two factors:\n",
      "\n",
      "1. **Company Founding:**  A significant portion (roughly 3/4) of new fortunes in 2020 originated from starting companies, with 56 out of 73 new fortunes stemming from founders' or early employees' equity.  This contrasts sharply with 1982, where inheritance was the dominant source of wealth.\n",
      "\n",
      "2. **Investment Management:** Another source of new wealth in 2020 was managing investment funds, accounting for 17 out of 73 new fortunes.  This was absent among the top 100 richest in 1982, indicating a shift in wealth creation strategies.\n",
      "\n",
      "In summary, the decrease in inherited wealth among the Forbes 400 between 1982 and 2020 is primarily explained by the emergence of company founding and investment management as major avenues for accumulating wealth, rather than a change in inheritance tax policies.\n",
      "\n"
     ]
    }
   ],
   "source": [
    "# from llama_index.core.schema import QueryBundle\n",
    "# query_bundle = QueryBundle(\n",
    "#     query_str=\"What are the specific advantages of the 'grad student' model for startups, and why is it preferable to the 'law firm' model? It is okay if the answer is lengthy. Its is very critical that the answers are written using information available in the provided data.\"\n",
    "# )\n",
    "query_engine = index.as_query_engine(\n",
    "    sub_retrievers=[custom_vector_retriever, llm_synonym_retriever],\n",
    "    text_qa_template=custom_prompt,\n",
    "    response_mode=\"compact\",\n",
    "    # # include_text=True,\n",
    "    # # include_properties=True,\n",
    "    # similarity_top_k=10,\n",
    "    # limit=100,\n",
    "    # similarity_score=0.75,\n",
    ")\n",
    "response:List[NodeWithScore] = query_engine.query(\n",
    "    \"What were the main reasons for the decline in inherited wealth as the primary source of riches among the Forbes 400 between 1982 and 2020?\"\n",
    ")\n",
    "print(response)"
   ]
  },
  {
   "cell_type": "code",
   "execution_count": 26,
   "metadata": {},
   "outputs": [
    {
     "data": {
      "text/plain": [
       "[NodeWithScore(node=TextNode(id_='2be3170b-8cca-4be4-b1b1-235405b805b6', embedding=None, metadata={'file_path': 'D:\\\\projects\\\\graphrag-poc\\\\data\\\\selection 1\\\\How People Get Rich Now (HIVE).txt', 'file_name': 'How People Get Rich Now (HIVE).txt', 'file_type': 'text/plain', 'file_size': 14641, 'creation_date': '2024-11-26', 'last_modified_date': '2024-11-20'}, excluded_embed_metadata_keys=['file_name', 'file_type', 'file_size', 'creation_date', 'last_modified_date', 'last_accessed_date'], excluded_llm_metadata_keys=['file_name', 'file_type', 'file_size', 'creation_date', 'last_modified_date', 'last_accessed_date'], relationships={<NodeRelationship.SOURCE: '1'>: RelatedNodeInfo(node_id='5e19c9e8-b104-4193-8eb9-470fcc513b78', node_type='4', metadata={'file_path': 'D:\\\\projects\\\\graphrag-poc\\\\data\\\\selection 1\\\\How People Get Rich Now (HIVE).txt', 'file_name': 'How People Get Rich Now (HIVE).txt', 'file_type': 'text/plain', 'file_size': 14641, 'creation_date': '2024-11-26', 'last_modified_date': '2024-11-20'}, hash='638a3fc276bd116c3f2338f93ccc6b47968652c31d9796044490018cc67f0735'), <NodeRelationship.NEXT: '3'>: RelatedNodeInfo(node_id='89dccb77-10ac-4be3-a181-264319e95b45', node_type='1', metadata={}, hash='d0d1f3cde81a7e2fde4a8b94d86a62a80deaeef3c37ef0469e0a43ace4f0d944')}, metadata_template='{key}: {value}', metadata_separator='\\n', text='Here are some facts extracted from the provided text:\\n\\nInheritance -> SOURCE_OF -> Wealth of Richest Americans (1982)\\nInheritance -> SOURCE_OF -> Wealth of Richest Americans (1982)\\nOil and Real Estate -> SOURCE_OF -> New Fortunes (1982)\\nOil and Real Estate -> SOURCE_OF -> New Fortunes (1982)\\nForbes magazine -> PUBLISH -> list of richest Americans\\nForbes magazine -> PUBLISH -> list of richest Americans\\nCompany Founding -> SOURCE_OF -> Wealth of Richest Americans (2020)\\nCompany Founding -> SOURCE_OF -> Wealth of Richest Americans (2020)\\n\\nApril 2021 Every year since 1982, Forbes magazine has published a list of the richest Americans. If we compare the 100 richest people in 1982 to the 100 richest in 2020, we notice some big differences. In 1982 the most common source of wealth was inheritance. Of the 100 richest people, 60 inherited from an ancestor. There were 10 du Pont heirs alone. By 2020 the number of heirs had been cut in half, accounting for only 27 of the biggest 100 fortunes. Why would the percentage of heirs decrease? Not because inheritance taxes increased. In fact, they decreased significantly during this period. The reason the percentage of heirs has decreased is not that fewer people are inheriting great fortunes, but that more people are making them. How are people making these new fortunes? Roughly 3/4 by starting companies and 1/4 by investing. Of the 73 new fortunes in 2020, 56 derive from founders\\' or early employees\\' equity (52 founders, 2 early employees, and 2 wives of founders), and 17 from managing investment funds. There were no fund managers among the 100 richest Americans in 1982. Hedge funds and private equity firms existed in 1982, but none of their founders were rich enough yet to make it into the top 100. Two things changed: fund managers discovered new ways to generate high returns, and more investors were willing to trust them with their money. [ 1 ] But the main source of new fortunes now is starting companies, and when you look at the data, you see big changes there too. People get richer from starting companies now than they did in 1982, because the companies do different things. In 1982, there were two dominant sources of new wealth: oil and real estate. Of the 40 new fortunes in 1982, at least 24 were due primarily to oil or real estate. Now only a small number are: of the 73 new fortunes in 2020, 4 were due to real estate and only 2 to oil. By 2020 the biggest source of new wealth was what are sometimes called \"tech\" companies. Of the 73 new fortunes, about 30 derive from such companies. These are particularly common among the richest of the rich: 8 of the top 10 fortunes in 2020 were new fortunes of this type. Arguably it\\'s slightly misleading to treat tech as a category. Isn\\'t Amazon really a retailer, and Tesla a car maker? Yes and no. Maybe in 50 years, when what we call tech is taken for granted, it won\\'t seem right to put these two businesses in the same category. But at the moment at least, there is definitely something they share in common that distinguishes them. What retailer starts AWS? What car maker is run by someone who also has a rocket company? The tech companies behind the top 100 fortunes also form a well-differentiated group in the sense that they\\'re all companies that venture capitalists would readily invest in, and the others mostly not. And there\\'s a reason why: these are mostly companies that win by having better technology, rather than just a CEO who\\'s really driven and good at making deals. To that extent, the rise of the tech companies represents a qualitative change. The oil and real estate magnates of the 1982 Forbes 400 didn\\'t win by making better technology. They won by being really driven and good at making deals. [ 2 ] And indeed, that way of getting rich is so old that it predates the Industrial Revolution. The courtiers who got rich in the (nominal) service of European royal houses in the 16th and 17th centuries were also, as a rule, really driven and good at making deals. People who don\\'t look any deeper than the Gini coefficient look back on the world of 1982 as the good old days, because those who got rich then didn\\'t get as rich. But if you dig into how they got rich, the old days don\\'t look so good. In 1982, 84% of the richest 100 people got rich by inheritance, extracting natural resources, or doing real estate deals. Is that really better than a world in which the richest people get rich by starting tech companies? Why are people starting so many more new companies than they used to, and why are they getting so rich from it? The answer to the first question, curiously enough, is that it\\'s misphrased.', mimetype='text/plain', start_char_idx=0, end_char_idx=4120, metadata_seperator='\\n', text_template='{metadata_str}\\n\\n{content}'), score=0.9118762016296387),\n",
       " NodeWithScore(node=TextNode(id_='89dccb77-10ac-4be3-a181-264319e95b45', embedding=None, metadata={'file_path': 'D:\\\\projects\\\\graphrag-poc\\\\data\\\\selection 1\\\\How People Get Rich Now (HIVE).txt', 'file_name': 'How People Get Rich Now (HIVE).txt', 'file_type': 'text/plain', 'file_size': 14641, 'creation_date': '2024-11-26', 'last_modified_date': '2024-11-20'}, excluded_embed_metadata_keys=['file_name', 'file_type', 'file_size', 'creation_date', 'last_modified_date', 'last_accessed_date'], excluded_llm_metadata_keys=['file_name', 'file_type', 'file_size', 'creation_date', 'last_modified_date', 'last_accessed_date'], relationships={<NodeRelationship.SOURCE: '1'>: RelatedNodeInfo(node_id='5e19c9e8-b104-4193-8eb9-470fcc513b78', node_type='4', metadata={'file_path': 'D:\\\\projects\\\\graphrag-poc\\\\data\\\\selection 1\\\\How People Get Rich Now (HIVE).txt', 'file_name': 'How People Get Rich Now (HIVE).txt', 'file_type': 'text/plain', 'file_size': 14641, 'creation_date': '2024-11-26', 'last_modified_date': '2024-11-20'}, hash='638a3fc276bd116c3f2338f93ccc6b47968652c31d9796044490018cc67f0735'), <NodeRelationship.PREVIOUS: '2'>: RelatedNodeInfo(node_id='2be3170b-8cca-4be4-b1b1-235405b805b6', node_type='1', metadata={'file_path': 'D:\\\\projects\\\\graphrag-poc\\\\data\\\\selection 1\\\\How People Get Rich Now (HIVE).txt', 'file_name': 'How People Get Rich Now (HIVE).txt', 'file_type': 'text/plain', 'file_size': 14641, 'creation_date': '2024-11-26', 'last_modified_date': '2024-11-20'}, hash='80f6dc181108f67deb549c630693505d7cdff5c1929f0909b6db86da89dad2fd'), <NodeRelationship.NEXT: '3'>: RelatedNodeInfo(node_id='3e0c1e6b-281f-408c-af19-451a8b3afec9', node_type='1', metadata={}, hash='f669d903c284a0ecbbf431c5b00e4a0ba4d227833d4288b414ae0706527cb06e')}, metadata_template='{key}: {value}', metadata_separator='\\n', text='Here are some facts extracted from the provided text:\\n\\n1892 -> REVEALED -> 20% inherited wealth\\n1892 -> REVEALED -> 20% inherited wealth\\n\\nWhy are people starting so many more new companies than they used to, and why are they getting so rich from it? The answer to the first question, curiously enough, is that it\\'s misphrased. We shouldn\\'t be asking why people are starting companies, but why they\\'re starting companies again [ 3 ] In 1892, the New York Herald Tribune compiled a list of all the millionaires in America. They found 4047 of them. How many had inherited their wealth then? Only about 20%, which is less than the proportion of heirs today. And when you investigate the sources of the new fortunes, 1892 looks even more like today. Hugh Rockoff found that \"many of the richest.. gained their initial edge from the new technology of mass production.\" [ 4 ] So it\\'s not 2020 that\\'s the anomaly here, but 1982. The real question is why so few people had gotten rich from starting companies in 1982. And the answer is that even as the Herald Tribune \\'s list was being compiled, a wave of consolidation was sweeping through the American economy. In the late 19th and early 20th centuries, financiers like J. P. Morgan combined thousands of smaller companies into a few hundred giant ones with commanding economies of scale. By the end of World War II, as Michael Lind writes, \"the major sectors of the economy were either organized as government-backed cartels or dominated by a few oligopolistic corporations.\" [ 5 ] In 1960, most of the people who start startups today would have gone to work for one of them. You could get rich from starting your own company in 1890 and in 2020, but in 1960 it was not really a viable option. You couldn\\'t break through the oligopolies to get at the markets. So the prestigious route in 1960 was not to start your own company, but to work your way up the corporate ladder at an existing one. [ 6 ] Making everyone a corporate employee decreased economic inequality (and every other kind of variation), but if your model of normal is the mid 20th century, you have a very misleading model in that respect. J. P. Morgan\\'s economy turned out to be just a phase, and starting in the 1970s, it began to break up. Why did it break up? Partly senescence. The big companies that seemed models of scale and efficiency in 1930 had by 1970 become slack and bloated. By 1970 the rigid structure of the economy was full of cosy nests that various groups had built to insulate themselves from market forces. During the Carter administration the federal government realized something was amiss and began, in a process they called \"deregulation,\" to roll back the policies that propped up the oligopolies. But it wasn\\'t just decay from within that broke up J. P. Morgan\\'s economy. There was also pressure from without, in the form of new technology, and particularly microelectronics. The best way to envision what happened is to imagine a pond with a crust of ice on top. Initially the only way from the bottom to the surface is around the edges. But as the ice crust weakens, you start to be able to punch right through the middle. The edges of the pond were pure tech: companies that actually described themselves as being in the electronics or software business. When you used the word \"startup\" in 1990, that was what you meant. But now startups are punching right through the middle of the ice crust and displacing incumbents like retailers and TV networks and car companies. [ 7 ] But though the breakup of J. P. Morgan\\'s economy created a new world in the technological sense, it was a reversion to the norm in the social sense. If you only look back as far as the mid 20th century, it seems like people getting rich by starting their own companies is a recent phenomenon. But if you look back further, you realize it\\'s actually the default. So what we should expect in the future is more of the same. Indeed, we should expect both the number and wealth of founders to grow, because every decade it gets easier to start a startup. Part of the reason it\\'s getting easier to start a startup is social. Society is (re)assimilating the concept. If you start one now, your parents won\\'t freak out the way they would have a generation ago, and knowledge about how to do it is much more widespread. But the main reason it\\'s easier to start a startup now is that it\\'s cheaper.', mimetype='text/plain', start_char_idx=3932, end_char_idx=8199, metadata_seperator='\\n', text_template='{metadata_str}\\n\\n{content}'), score=0.8976190090179443)]"
      ]
     },
     "execution_count": 26,
     "metadata": {},
     "output_type": "execute_result"
    }
   ],
   "source": [
    "response.source_nodes"
   ]
  },
  {
   "cell_type": "code",
   "execution_count": 22,
   "metadata": {},
   "outputs": [
    {
     "data": {
      "text/plain": [
       "2"
      ]
     },
     "execution_count": 22,
     "metadata": {},
     "output_type": "execute_result"
    }
   ],
   "source": [
    "len(response.source_nodes)"
   ]
  },
  {
   "cell_type": "code",
   "execution_count": 66,
   "metadata": {},
   "outputs": [],
   "source": [
    "# from pydantic import BaseModel\n",
    "# class MyResponseNodes(BaseModel):\n",
    "#     response_nodes: List[NodeWithScore]"
   ]
  },
  {
   "cell_type": "code",
   "execution_count": 67,
   "metadata": {},
   "outputs": [
    {
     "name": "stdout",
     "output_type": "stream",
     "text": [
      "{\"response_nodes\":[{\"node\":{\"id_\":\"2be3170b-8cca-4be4-b1b1-235405b805b6\",\"embedding\":null,\"metadata\":{\"file_path\":\"D:\\\\projects\\\\graphrag-poc\\\\data\\\\selection 1\\\\How People Get Rich Now (HIVE).txt\",\"file_name\":\"How People Get Rich Now (HIVE).txt\",\"file_type\":\"text/plain\",\"file_size\":14641,\"creation_date\":\"2024-11-26\",\"last_modified_date\":\"2024-11-20\"},\"excluded_embed_metadata_keys\":[\"file_name\",\"file_type\",\"file_size\",\"creation_date\",\"last_modified_date\",\"last_accessed_date\"],\"excluded_llm_metadata_keys\":[\"file_name\",\"file_type\",\"file_size\",\"creation_date\",\"last_modified_date\",\"last_accessed_date\"],\"relationships\":{\"1\":{\"node_id\":\"5e19c9e8-b104-4193-8eb9-470fcc513b78\",\"node_type\":\"4\",\"metadata\":{\"file_path\":\"D:\\\\projects\\\\graphrag-poc\\\\data\\\\selection 1\\\\How People Get Rich Now (HIVE).txt\",\"file_name\":\"How People Get Rich Now (HIVE).txt\",\"file_type\":\"text/plain\",\"file_size\":14641,\"creation_date\":\"2024-11-26\",\"last_modified_date\":\"2024-11-20\"},\"hash\":\"638a3fc276bd116c3f2338f93ccc6b47968652c31d9796044490018cc67f0735\",\"class_name\":\"RelatedNodeInfo\"},\"3\":{\"node_id\":\"89dccb77-10ac-4be3-a181-264319e95b45\",\"node_type\":\"1\",\"metadata\":{},\"hash\":\"d0d1f3cde81a7e2fde4a8b94d86a62a80deaeef3c37ef0469e0a43ace4f0d944\",\"class_name\":\"RelatedNodeInfo\"}},\"metadata_template\":\"{key}: {value}\",\"metadata_separator\":\"\\n\",\"text\":\"Here are some facts extracted from the provided text:\\n\\nInheritance (Description: Primary source of wealth for 60 out of the 100 richest Americans in 1982, significantly decreasing in prevalence by 2020.) -> SOURCE_OF (Description: Primary means by which individuals accumulated wealth in 1982, contrasting with the rise of company founding in 2020.) -> Wealth of Richest Americans (1982) (Description: Distribution of wealth among the top 100 richest Americans in 1982, largely attributed to inheritance.)\\nInheritance (Description: Primary source of wealth for 60 out of the 100 richest Americans in 1982, significantly decreasing in prevalence by 2020.) -> SOURCE_OF (Description: Primary means by which individuals accumulated wealth in 1982, contrasting with the rise of company founding in 2020.) -> Wealth of Richest Americans (1982) (Description: Distribution of wealth among the top 100 richest Americans in 1982, largely attributed to inheritance.)\\nOil and Real Estate (Description: Dominant sources of new wealth in 1982, significantly declining in importance by 2020, replaced by technology companies.) -> SOURCE_OF (Description: Primary drivers of wealth creation in 1982, contrasting with the rise of technology companies as the dominant force in 2020.) -> New Fortunes (1982) (Description: New fortunes created in 1982, primarily driven by the oil and real estate sectors.)\\nForbes magazine (Description: Magazine that annually publishes a list of the richest Americans, starting in 1982, providing a historical perspective on wealth creation.) -> PUBLISH (Description: Annual publication of a list ranking the wealthiest Americans, highlighting shifts in wealth sources over time.) -> list of richest Americans (Description: Annual ranking of the 100 wealthiest Americans, used to analyze trends in wealth accumulation from 1982 to 2020.)\\nForbes magazine (Description: Magazine that annually publishes a list of the richest Americans, starting in 1982, providing a historical perspective on wealth creation.) -> PUBLISH (Description: Annual publication of a list ranking the wealthiest Americans, highlighting shifts in wealth sources over time.) -> list of richest Americans (Description: Annual ranking of the 100 wealthiest Americans, used to analyze trends in wealth accumulation from 1982 to 2020.)\\nCompany Founding (Description: Primary source of new fortunes in 2020, accounting for approximately 3/4 of the 73 new fortunes, largely driven by technology companies.) -> SOURCE_OF (Description: Dominant method of wealth creation in 2020, surpassing inheritance and traditional industries like oil and real estate.) -> Wealth of Richest Americans (2020) (Description: Distribution of wealth among the top 100 richest Americans in 2020, significantly influenced by the rise of tech companies.)\\nCompany Founding (Description: Primary source of new fortunes in 2020, accounting for approximately 3/4 of the 73 new fortunes, largely driven by technology companies.) -> SOURCE_OF (Description: Dominant method of wealth creation in 2020, surpassing inheritance and traditional industries like oil and real estate.) -> Wealth of Richest Americans (2020) (Description: Distribution of wealth among the top 100 richest Americans in 2020, significantly influenced by the rise of tech companies.)\\n\\nApril 2021 Every year since 1982, Forbes magazine has published a list of the richest Americans. If we compare the 100 richest people in 1982 to the 100 richest in 2020, we notice some big differences. In 1982 the most common source of wealth was inheritance. Of the 100 richest people, 60 inherited from an ancestor. There were 10 du Pont heirs alone. By 2020 the number of heirs had been cut in half, accounting for only 27 of the biggest 100 fortunes. Why would the percentage of heirs decrease? Not because inheritance taxes increased. In fact, they decreased significantly during this period. The reason the percentage of heirs has decreased is not that fewer people are inheriting great fortunes, but that more people are making them. How are people making these new fortunes? Roughly 3/4 by starting companies and 1/4 by investing. Of the 73 new fortunes in 2020, 56 derive from founders' or early employees' equity (52 founders, 2 early employees, and 2 wives of founders), and 17 from managing investment funds. There were no fund managers among the 100 richest Americans in 1982. Hedge funds and private equity firms existed in 1982, but none of their founders were rich enough yet to make it into the top 100. Two things changed: fund managers discovered new ways to generate high returns, and more investors were willing to trust them with their money. [ 1 ] But the main source of new fortunes now is starting companies, and when you look at the data, you see big changes there too. People get richer from starting companies now than they did in 1982, because the companies do different things. In 1982, there were two dominant sources of new wealth: oil and real estate. Of the 40 new fortunes in 1982, at least 24 were due primarily to oil or real estate. Now only a small number are: of the 73 new fortunes in 2020, 4 were due to real estate and only 2 to oil. By 2020 the biggest source of new wealth was what are sometimes called \\\"tech\\\" companies. Of the 73 new fortunes, about 30 derive from such companies. These are particularly common among the richest of the rich: 8 of the top 10 fortunes in 2020 were new fortunes of this type. Arguably it's slightly misleading to treat tech as a category. Isn't Amazon really a retailer, and Tesla a car maker? Yes and no. Maybe in 50 years, when what we call tech is taken for granted, it won't seem right to put these two businesses in the same category. But at the moment at least, there is definitely something they share in common that distinguishes them. What retailer starts AWS? What car maker is run by someone who also has a rocket company? The tech companies behind the top 100 fortunes also form a well-differentiated group in the sense that they're all companies that venture capitalists would readily invest in, and the others mostly not. And there's a reason why: these are mostly companies that win by having better technology, rather than just a CEO who's really driven and good at making deals. To that extent, the rise of the tech companies represents a qualitative change. The oil and real estate magnates of the 1982 Forbes 400 didn't win by making better technology. They won by being really driven and good at making deals. [ 2 ] And indeed, that way of getting rich is so old that it predates the Industrial Revolution. The courtiers who got rich in the (nominal) service of European royal houses in the 16th and 17th centuries were also, as a rule, really driven and good at making deals. People who don't look any deeper than the Gini coefficient look back on the world of 1982 as the good old days, because those who got rich then didn't get as rich. But if you dig into how they got rich, the old days don't look so good. In 1982, 84% of the richest 100 people got rich by inheritance, extracting natural resources, or doing real estate deals. Is that really better than a world in which the richest people get rich by starting tech companies? Why are people starting so many more new companies than they used to, and why are they getting so rich from it? The answer to the first question, curiously enough, is that it's misphrased.\",\"mimetype\":\"text/plain\",\"start_char_idx\":0,\"end_char_idx\":4120,\"metadata_seperator\":\"\\n\",\"text_template\":\"{metadata_str}\\n\\n{content}\",\"class_name\":\"TextNode\"},\"score\":1.0,\"class_name\":\"NodeWithScore\"},{\"node\":{\"id_\":\"89dccb77-10ac-4be3-a181-264319e95b45\",\"embedding\":null,\"metadata\":{\"file_path\":\"D:\\\\projects\\\\graphrag-poc\\\\data\\\\selection 1\\\\How People Get Rich Now (HIVE).txt\",\"file_name\":\"How People Get Rich Now (HIVE).txt\",\"file_type\":\"text/plain\",\"file_size\":14641,\"creation_date\":\"2024-11-26\",\"last_modified_date\":\"2024-11-20\"},\"excluded_embed_metadata_keys\":[\"file_name\",\"file_type\",\"file_size\",\"creation_date\",\"last_modified_date\",\"last_accessed_date\"],\"excluded_llm_metadata_keys\":[\"file_name\",\"file_type\",\"file_size\",\"creation_date\",\"last_modified_date\",\"last_accessed_date\"],\"relationships\":{\"1\":{\"node_id\":\"5e19c9e8-b104-4193-8eb9-470fcc513b78\",\"node_type\":\"4\",\"metadata\":{\"file_path\":\"D:\\\\projects\\\\graphrag-poc\\\\data\\\\selection 1\\\\How People Get Rich Now (HIVE).txt\",\"file_name\":\"How People Get Rich Now (HIVE).txt\",\"file_type\":\"text/plain\",\"file_size\":14641,\"creation_date\":\"2024-11-26\",\"last_modified_date\":\"2024-11-20\"},\"hash\":\"638a3fc276bd116c3f2338f93ccc6b47968652c31d9796044490018cc67f0735\",\"class_name\":\"RelatedNodeInfo\"},\"2\":{\"node_id\":\"2be3170b-8cca-4be4-b1b1-235405b805b6\",\"node_type\":\"1\",\"metadata\":{\"file_path\":\"D:\\\\projects\\\\graphrag-poc\\\\data\\\\selection 1\\\\How People Get Rich Now (HIVE).txt\",\"file_name\":\"How People Get Rich Now (HIVE).txt\",\"file_type\":\"text/plain\",\"file_size\":14641,\"creation_date\":\"2024-11-26\",\"last_modified_date\":\"2024-11-20\"},\"hash\":\"80f6dc181108f67deb549c630693505d7cdff5c1929f0909b6db86da89dad2fd\",\"class_name\":\"RelatedNodeInfo\"},\"3\":{\"node_id\":\"3e0c1e6b-281f-408c-af19-451a8b3afec9\",\"node_type\":\"1\",\"metadata\":{},\"hash\":\"f669d903c284a0ecbbf431c5b00e4a0ba4d227833d4288b414ae0706527cb06e\",\"class_name\":\"RelatedNodeInfo\"}},\"metadata_template\":\"{key}: {value}\",\"metadata_separator\":\"\\n\",\"text\":\"Here are some facts extracted from the provided text:\\n\\n1892 (Description: Year in which the New York Herald Tribune compiled a list of millionaires, revealing that only about 20% inherited their wealth.) -> REVEALED (Description: The information revealed by the New York Herald Tribune's 1892 list of millionaires, showing a low percentage of inherited wealth.) -> 20% inherited wealth (Description: The percentage of millionaires in 1892 who had inherited their wealth, as revealed by the New York Herald Tribune.)\\n1892 (Description: Year in which the New York Herald Tribune compiled a list of millionaires, revealing that only about 20% inherited their wealth.) -> REVEALED (Description: The information revealed by the New York Herald Tribune's 1892 list of millionaires, showing a low percentage of inherited wealth.) -> 20% inherited wealth (Description: The percentage of millionaires in 1892 who had inherited their wealth, as revealed by the New York Herald Tribune.)\\n\\nWhy are people starting so many more new companies than they used to, and why are they getting so rich from it? The answer to the first question, curiously enough, is that it's misphrased. We shouldn't be asking why people are starting companies, but why they're starting companies again [ 3 ] In 1892, the New York Herald Tribune compiled a list of all the millionaires in America. They found 4047 of them. How many had inherited their wealth then? Only about 20%, which is less than the proportion of heirs today. And when you investigate the sources of the new fortunes, 1892 looks even more like today. Hugh Rockoff found that \\\"many of the richest.. gained their initial edge from the new technology of mass production.\\\" [ 4 ] So it's not 2020 that's the anomaly here, but 1982. The real question is why so few people had gotten rich from starting companies in 1982. And the answer is that even as the Herald Tribune 's list was being compiled, a wave of consolidation was sweeping through the American economy. In the late 19th and early 20th centuries, financiers like J. P. Morgan combined thousands of smaller companies into a few hundred giant ones with commanding economies of scale. By the end of World War II, as Michael Lind writes, \\\"the major sectors of the economy were either organized as government-backed cartels or dominated by a few oligopolistic corporations.\\\" [ 5 ] In 1960, most of the people who start startups today would have gone to work for one of them. You could get rich from starting your own company in 1890 and in 2020, but in 1960 it was not really a viable option. You couldn't break through the oligopolies to get at the markets. So the prestigious route in 1960 was not to start your own company, but to work your way up the corporate ladder at an existing one. [ 6 ] Making everyone a corporate employee decreased economic inequality (and every other kind of variation), but if your model of normal is the mid 20th century, you have a very misleading model in that respect. J. P. Morgan's economy turned out to be just a phase, and starting in the 1970s, it began to break up. Why did it break up? Partly senescence. The big companies that seemed models of scale and efficiency in 1930 had by 1970 become slack and bloated. By 1970 the rigid structure of the economy was full of cosy nests that various groups had built to insulate themselves from market forces. During the Carter administration the federal government realized something was amiss and began, in a process they called \\\"deregulation,\\\" to roll back the policies that propped up the oligopolies. But it wasn't just decay from within that broke up J. P. Morgan's economy. There was also pressure from without, in the form of new technology, and particularly microelectronics. The best way to envision what happened is to imagine a pond with a crust of ice on top. Initially the only way from the bottom to the surface is around the edges. But as the ice crust weakens, you start to be able to punch right through the middle. The edges of the pond were pure tech: companies that actually described themselves as being in the electronics or software business. When you used the word \\\"startup\\\" in 1990, that was what you meant. But now startups are punching right through the middle of the ice crust and displacing incumbents like retailers and TV networks and car companies. [ 7 ] But though the breakup of J. P. Morgan's economy created a new world in the technological sense, it was a reversion to the norm in the social sense. If you only look back as far as the mid 20th century, it seems like people getting rich by starting their own companies is a recent phenomenon. But if you look back further, you realize it's actually the default. So what we should expect in the future is more of the same. Indeed, we should expect both the number and wealth of founders to grow, because every decade it gets easier to start a startup. Part of the reason it's getting easier to start a startup is social. Society is (re)assimilating the concept. If you start one now, your parents won't freak out the way they would have a generation ago, and knowledge about how to do it is much more widespread. But the main reason it's easier to start a startup now is that it's cheaper.\",\"mimetype\":\"text/plain\",\"start_char_idx\":3932,\"end_char_idx\":8199,\"metadata_seperator\":\"\\n\",\"text_template\":\"{metadata_str}\\n\\n{content}\",\"class_name\":\"TextNode\"},\"score\":0.9843649910084122,\"class_name\":\"NodeWithScore\"}]}\n"
     ]
    }
   ],
   "source": [
    "# #create a MyResponseNodes from response.nodes\n",
    "# my_response_nodes = MyResponseNodes(response_nodes=response.source_nodes)\n",
    "# print(my_response_nodes.model_dump_json())"
   ]
  },
  {
   "cell_type": "code",
   "execution_count": 27,
   "metadata": {},
   "outputs": [
    {
     "name": "stdout",
     "output_type": "stream",
     "text": [
      "file_path: D:\\projects\\graphrag-poc\\data\\selection 1\\How People Get Rich Now (HIVE).txt\n",
      "\n",
      "Here are some facts extracted from the provided text:\n",
      "\n",
      "Inheritance -> SOURCE_OF -> Wealth of Richest Americans (1982)\n",
      "Inheritance -> SOURCE_OF -> Wealth of Richest Americans (1982)\n",
      "Oil and Real Estate -> SOURCE_OF -> New Fortunes (1982)\n",
      "Oil and Real Estate -> SOURCE_OF -> New Fortunes (1982)\n",
      "Forbes magazine -> PUBLISH -> list of richest Americans\n",
      "Forbes magazine -> PUBLISH -> list of richest Americans\n",
      "Company Founding -> SOURCE_OF -> Wealth of Richest Americans (2020)\n",
      "Company Founding -> SOURCE_OF -> Wealth of Richest Americans (2020)\n",
      "\n",
      "April 2021 Every year since 1982, Forbes magazine has published a list of the richest Americans. If we compare the 100 richest people in 1982 to the 100 richest in 2020, we notice some big differences. In 1982 the most common source of wealth was inheritance. Of the 100 richest people, 60 inherited from an ancestor. There were 10 du Pont heirs alone. By 2020 the number of heirs had been cut in half, accounting for only 27 of the biggest 100 fortunes. Why would the percentage of heirs decrease? Not because inheritance taxes increased. In fact, they decreased significantly during this period. The reason the percentage of heirs has decreased is not that fewer people are inheriting great fortunes, but that more people are making them. How are people making these new fortunes? Roughly 3/4 by starting companies and 1/4 by investing. Of the 73 new fortunes in 2020, 56 derive from founders' or early employees' equity (52 founders, 2 early employees, and 2 wives of founders), and 17 from managing investment funds. There were no fund managers among the 100 richest Americans in 1982. Hedge funds and private equity firms existed in 1982, but none of their founders were rich enough yet to make it into the top 100. Two things changed: fund managers discovered new ways to generate high returns, and more investors were willing to trust them with their money. [ 1 ] But the main source of new fortunes now is starting companies, and when you look at the data, you see big changes there too. People get richer from starting companies now than they did in 1982, because the companies do different things. In 1982, there were two dominant sources of new wealth: oil and real estate. Of the 40 new fortunes in 1982, at least 24 were due primarily to oil or real estate. Now only a small number are: of the 73 new fortunes in 2020, 4 were due to real estate and only 2 to oil. By 2020 the biggest source of new wealth was what are sometimes called \"tech\" companies. Of the 73 new fortunes, about 30 derive from such companies. These are particularly common among the richest of the rich: 8 of the top 10 fortunes in 2020 were new fortunes of this type. Arguably it's slightly misleading to treat tech as a category. Isn't Amazon really a retailer, and Tesla a car maker? Yes and no. Maybe in 50 years, when what we call tech is taken for granted, it won't seem right to put these two businesses in the same category. But at the moment at least, there is definitely something they share in common that distinguishes them. What retailer starts AWS? What car maker is run by someone who also has a rocket company? The tech companies behind the top 100 fortunes also form a well-differentiated group in the sense that they're all companies that venture capitalists would readily invest in, and the others mostly not. And there's a reason why: these are mostly companies that win by having better technology, rather than just a CEO who's really driven and good at making deals. To that extent, the rise of the tech companies represents a qualitative change. The oil and real estate magnates of the 1982 Forbes 400 didn't win by making better technology. They won by being really driven and good at making deals. [ 2 ] And indeed, that way of getting rich is so old that it predates the Industrial Revolution. The courtiers who got rich in the (nominal) service of European royal houses in the 16th and 17th centuries were also, as a rule, really driven and good at making deals. People who don't look any deeper than the Gini coefficient look back on the world of 1982 as the good old days, because those who got rich then didn't get as rich. But if you dig into how they got rich, the old days don't look so good. In 1982, 84% of the richest 100 people got rich by inheritance, extracting natural resources, or doing real estate deals. Is that really better than a world in which the richest people get rich by starting tech companies? Why are people starting so many more new companies than they used to, and why are they getting so rich from it? The answer to the first question, curiously enough, is that it's misphrased.\n",
      "--------------------------------\n",
      "file_path: D:\\projects\\graphrag-poc\\data\\selection 1\\How People Get Rich Now (HIVE).txt\n",
      "\n",
      "Here are some facts extracted from the provided text:\n",
      "\n",
      "1892 -> REVEALED -> 20% inherited wealth\n",
      "1892 -> REVEALED -> 20% inherited wealth\n",
      "\n",
      "Why are people starting so many more new companies than they used to, and why are they getting so rich from it? The answer to the first question, curiously enough, is that it's misphrased. We shouldn't be asking why people are starting companies, but why they're starting companies again [ 3 ] In 1892, the New York Herald Tribune compiled a list of all the millionaires in America. They found 4047 of them. How many had inherited their wealth then? Only about 20%, which is less than the proportion of heirs today. And when you investigate the sources of the new fortunes, 1892 looks even more like today. Hugh Rockoff found that \"many of the richest.. gained their initial edge from the new technology of mass production.\" [ 4 ] So it's not 2020 that's the anomaly here, but 1982. The real question is why so few people had gotten rich from starting companies in 1982. And the answer is that even as the Herald Tribune 's list was being compiled, a wave of consolidation was sweeping through the American economy. In the late 19th and early 20th centuries, financiers like J. P. Morgan combined thousands of smaller companies into a few hundred giant ones with commanding economies of scale. By the end of World War II, as Michael Lind writes, \"the major sectors of the economy were either organized as government-backed cartels or dominated by a few oligopolistic corporations.\" [ 5 ] In 1960, most of the people who start startups today would have gone to work for one of them. You could get rich from starting your own company in 1890 and in 2020, but in 1960 it was not really a viable option. You couldn't break through the oligopolies to get at the markets. So the prestigious route in 1960 was not to start your own company, but to work your way up the corporate ladder at an existing one. [ 6 ] Making everyone a corporate employee decreased economic inequality (and every other kind of variation), but if your model of normal is the mid 20th century, you have a very misleading model in that respect. J. P. Morgan's economy turned out to be just a phase, and starting in the 1970s, it began to break up. Why did it break up? Partly senescence. The big companies that seemed models of scale and efficiency in 1930 had by 1970 become slack and bloated. By 1970 the rigid structure of the economy was full of cosy nests that various groups had built to insulate themselves from market forces. During the Carter administration the federal government realized something was amiss and began, in a process they called \"deregulation,\" to roll back the policies that propped up the oligopolies. But it wasn't just decay from within that broke up J. P. Morgan's economy. There was also pressure from without, in the form of new technology, and particularly microelectronics. The best way to envision what happened is to imagine a pond with a crust of ice on top. Initially the only way from the bottom to the surface is around the edges. But as the ice crust weakens, you start to be able to punch right through the middle. The edges of the pond were pure tech: companies that actually described themselves as being in the electronics or software business. When you used the word \"startup\" in 1990, that was what you meant. But now startups are punching right through the middle of the ice crust and displacing incumbents like retailers and TV networks and car companies. [ 7 ] But though the breakup of J. P. Morgan's economy created a new world in the technological sense, it was a reversion to the norm in the social sense. If you only look back as far as the mid 20th century, it seems like people getting rich by starting their own companies is a recent phenomenon. But if you look back further, you realize it's actually the default. So what we should expect in the future is more of the same. Indeed, we should expect both the number and wealth of founders to grow, because every decade it gets easier to start a startup. Part of the reason it's getting easier to start a startup is social. Society is (re)assimilating the concept. If you start one now, your parents won't freak out the way they would have a generation ago, and knowledge about how to do it is much more widespread. But the main reason it's easier to start a startup now is that it's cheaper.\n",
      "--------------------------------\n"
     ]
    }
   ],
   "source": [
    "from llama_index.core.schema import NodeWithScore, MetadataMode\n",
    "\n",
    "response_nodes: List[NodeWithScore] = response.source_nodes\n",
    "\n",
    "for node in response_nodes:\n",
    "    print(node.get_content(metadata_mode=MetadataMode.LLM))\n",
    "    print(\"--------------------------------\")\n"
   ]
  },
  {
   "cell_type": "code",
   "execution_count": 29,
   "metadata": {},
   "outputs": [],
   "source": [
    "from IPython.display import Markdown, display\n",
    "# define prompt viewing function\n",
    "def display_prompt_dict(prompts_dict):\n",
    "    for k, p in prompts_dict.items():\n",
    "        text_md = f\"**Prompt Key**: {k}\" f\"**Text:** \"\n",
    "        display(Markdown(text_md))\n",
    "        print(p.get_template())\n",
    "        display(Markdown(\"\"))"
   ]
  },
  {
   "cell_type": "code",
   "execution_count": 30,
   "metadata": {},
   "outputs": [],
   "source": [
    "prompts_dict = query_engine.get_prompts()"
   ]
  },
  {
   "cell_type": "code",
   "execution_count": 31,
   "metadata": {},
   "outputs": [
    {
     "data": {
      "text/markdown": [
       "**Prompt Key**: response_synthesizer:text_qa_template**Text:** "
      ],
      "text/plain": [
       "<IPython.core.display.Markdown object>"
      ]
     },
     "metadata": {},
     "output_type": "display_data"
    },
    {
     "name": "stdout",
     "output_type": "stream",
     "text": [
      "You are an expert assistant tasked with providing comprehensive, well-structured answers based SOLELY on the given context. Your role is to synthesize and explain information from the provided context without adding external knowledge or making assumptions.\n",
      " \n",
      "1. Context Adherence:\n",
      "- ONLY use information that is explicitly present in the provided context\n",
      "- Do not add external knowledge, even if you know it's correct\n",
      "- If the context is insufficient to fully answer the question, acknowledge the limitations of available information\n",
      "- Do not make assumptions or inferences beyond what's directly supported by the context\n",
      "- If certain aspects of the question cannot be answered from the context, clearly state this rather than making up information\n",
      " \n",
      "2. Answer Structure:\n",
      "- Begin with a concise introductory paragraph that directly addresses the main question\n",
      "- Break down the answer into clear, numbered points when appropriate\n",
      "- Use bold formatting for key concepts using **text**\n",
      "- Maintain a logical flow from one point to the next\n",
      "- End with a brief summary that ties the main points together\n",
      " \n",
      "3. Content Development:\n",
      "- Expand on the context provided while staying strictly within its boundaries\n",
      "- Provide detailed explanations for each major point using only information from the context\n",
      "- Include relevant examples or implications only if present in the context\n",
      "- Connect related concepts to show relationships and broader impact\n",
      "- Ensure each point is substantive and supported by the source material\n",
      " \n",
      "4. Citation Style:\n",
      "- Use numbered citations [1], [2], etc. within the text where appropriate\n",
      "- If provided in the context, include a \"Citations:\" section at the end listing:\n",
      "  - File Name\n",
      "  - File Path (if provided)\n",
      "  - Page Number and other relevant metadata\n",
      "- Only cite information that is explicitly present in the context\n",
      "- Do not fabricate or hallucinate citations\n",
      " \n",
      "5. Language and Tone:\n",
      "- Use clear, professional language\n",
      "- Maintain an authoritative but accessible tone\n",
      "- Define technical terms when they appear in the context\n",
      "- Be precise and specific in explanations\n",
      "- Use active voice when possible\n",
      " \n",
      "6. Quality Control:\n",
      "- Verify every statement against the provided context\n",
      "- If the context is ambiguous or unclear, reflect this uncertainty in your answer\n",
      "- When multiple sources discuss the same point, synthesize them coherently\n",
      "- Address only those aspects of the question that can be answered from the given context\n",
      " \n",
      "Remember: Your primary responsibility is to provide accurate responses based EXCLUSIVELY on the provided context. Never supplement the answer with external knowledge or assumptions, even if they would make the answer more complete.\n",
      "\n",
      "Context information is provided below.\n",
      "---------------------\n",
      "{context_str}\n",
      "---------------------\n",
      "Please answer the following question based on this context: {query_str}\n",
      "---------------------\n",
      "Dont forget to cite the source of the information but dont repeat the same citation multiple times.\n",
      "Answer:\n",
      "\n"
     ]
    },
    {
     "data": {
      "text/markdown": [],
      "text/plain": [
       "<IPython.core.display.Markdown object>"
      ]
     },
     "metadata": {},
     "output_type": "display_data"
    },
    {
     "data": {
      "text/markdown": [
       "**Prompt Key**: response_synthesizer:refine_template**Text:** "
      ],
      "text/plain": [
       "<IPython.core.display.Markdown object>"
      ]
     },
     "metadata": {},
     "output_type": "display_data"
    },
    {
     "name": "stdout",
     "output_type": "stream",
     "text": [
      "The original query is as follows: {query_str}\n",
      "We have provided an existing answer: {existing_answer}\n",
      "We have the opportunity to refine the existing answer (only if needed) with some more context below.\n",
      "------------\n",
      "{context_msg}\n",
      "------------\n",
      "Given the new context, refine the original answer to better answer the query. If the context isn't useful, return the original answer.\n",
      "Refined Answer: \n"
     ]
    },
    {
     "data": {
      "text/markdown": [],
      "text/plain": [
       "<IPython.core.display.Markdown object>"
      ]
     },
     "metadata": {},
     "output_type": "display_data"
    }
   ],
   "source": [
    "display_prompt_dict(prompts_dict)"
   ]
  },
  {
   "cell_type": "code",
   "execution_count": null,
   "metadata": {},
   "outputs": [],
   "source": []
  }
 ],
 "metadata": {
  "kernelspec": {
   "display_name": ".venv",
   "language": "python",
   "name": "python3"
  },
  "language_info": {
   "codemirror_mode": {
    "name": "ipython",
    "version": 3
   },
   "file_extension": ".py",
   "mimetype": "text/x-python",
   "name": "python",
   "nbconvert_exporter": "python",
   "pygments_lexer": "ipython3",
   "version": "3.11.7"
  }
 },
 "nbformat": 4,
 "nbformat_minor": 2
}
