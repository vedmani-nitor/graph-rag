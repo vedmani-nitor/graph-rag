{
 "cells": [
  {
   "cell_type": "code",
   "execution_count": 5,
   "metadata": {},
   "outputs": [],
   "source": [
    "from llama_index.vector_stores.neo4jvector import Neo4jVectorStore"
   ]
  },
  {
   "cell_type": "code",
   "execution_count": 6,
   "metadata": {},
   "outputs": [
    {
     "data": {
      "text/plain": [
       "True"
      ]
     },
     "execution_count": 6,
     "metadata": {},
     "output_type": "execute_result"
    }
   ],
   "source": [
    "from llama_index.embeddings.azure_openai import AzureOpenAIEmbedding\n",
    "from llama_index.llms.azure_openai import AzureOpenAI\n",
    "from dotenv import load_dotenv\n",
    "import os\n",
    "\n",
    "load_dotenv()"
   ]
  },
  {
   "cell_type": "code",
   "execution_count": 7,
   "metadata": {},
   "outputs": [
    {
     "data": {
      "text/plain": [
       "1536"
      ]
     },
     "execution_count": 7,
     "metadata": {},
     "output_type": "execute_result"
    }
   ],
   "source": [
    "embed_model = AzureOpenAIEmbedding(\n",
    "    model=\"text-embedding-ada-002\",\n",
    "    # deployment_name=\"my-custom-embedding\",\n",
    "    api_key=os.getenv(\"AZURE_OPENAI_API_KEY\"),\n",
    "    azure_endpoint=os.getenv(\"AZURE_OPENAI_ENDPOINT\"),\n",
    "    api_version=os.getenv(\"OPENAI_API_VERSION\"),\n",
    ")\n",
    "embeddings = embed_model.get_text_embedding(\"Hello, world!\")\n",
    "len(embeddings)"
   ]
  },
  {
   "cell_type": "code",
   "execution_count": 3,
   "metadata": {},
   "outputs": [],
   "source": [
    "neo4j_vector = Neo4jVectorStore(\n",
    "    username=\"neo4j\",\n",
    "    password=\"12345678\",\n",
    "    url=\"bolt://localhost:7687\",\n",
    "    database=\"neo4j\",\n",
    "    hybrid_search = True,\n",
    "    embedding_dimension=1536\n",
    ")"
   ]
  },
  {
   "cell_type": "code",
   "execution_count": 17,
   "metadata": {},
   "outputs": [
    {
     "data": {
      "text/plain": [
       "True"
      ]
     },
     "execution_count": 17,
     "metadata": {},
     "output_type": "execute_result"
    }
   ],
   "source": [
    "neo4j_vector.retrieve_existing_index()"
   ]
  },
  {
   "cell_type": "code",
   "execution_count": 10,
   "metadata": {},
   "outputs": [],
   "source": [
    "from llama_index.core import VectorStoreIndex\n",
    "from llama_index.core import StorageContext\n",
    "storage_context = StorageContext.from_defaults(vector_store=neo4j_vector)\n",
    "index = VectorStoreIndex.from_vector_store(neo4j_vector, embed_model=embed_model)\n"
   ]
  },
  {
   "cell_type": "code",
   "execution_count": 15,
   "metadata": {},
   "outputs": [],
   "source": [
    "retriever = index.as_retriever(similarity_top_k=5)"
   ]
  },
  {
   "cell_type": "code",
   "execution_count": 16,
   "metadata": {},
   "outputs": [
    {
     "name": "stderr",
     "output_type": "stream",
     "text": [
      "Received notification from DBMS server: {severity: WARNING} {code: Neo.ClientNotification.Statement.FeatureDeprecationWarning} {category: DEPRECATION} {title: This feature is deprecated and will be removed in future versions.} {description: CALL subquery without a variable scope clause is now deprecated. Use CALL () { ... }} {position: line: 1, column: 1, offset: 0} for query: 'CALL { CALL db.index.vector.queryNodes($index, $k, $embedding) YIELD node, score WITH collect({node:node, score:score}) AS nodes, max(score) AS max UNWIND nodes AS n RETURN n.node AS node, (n.score / max) AS score UNION CALL db.index.fulltext.queryNodes($keyword_index, $query, {limit: $k}) YIELD node, score WITH collect({node:node, score:score}) AS nodes, max(score) AS max UNWIND nodes AS n RETURN n.node AS node, (n.score / max) AS score } WITH node, max(score) AS score ORDER BY score DESC LIMIT $k RETURN node.`text` AS text, score, node.id AS id, node {.*, `text`: Null, `embedding`: Null, id: Null } AS metadata'\n"
     ]
    },
    {
     "data": {
      "text/plain": [
       "[NodeWithScore(node=TextNode(id_='830ca6e3-e6ca-4682-999b-e08d09efbc33', embedding=None, metadata={'file_path': \"D:\\\\projects\\\\graphrag-poc\\\\data\\\\selection 1\\\\A Student's Guide to Startups (HIVE).txt\", 'file_name': \"A Student's Guide to Startups (HIVE).txt\", 'file_type': 'text/plain', 'file_size': 35856, 'creation_date': '2024-11-26', 'last_modified_date': '2024-11-20'}, excluded_embed_metadata_keys=['file_name', 'file_type', 'file_size', 'creation_date', 'last_modified_date', 'last_accessed_date'], excluded_llm_metadata_keys=['file_name', 'file_type', 'file_size', 'creation_date', 'last_modified_date', 'last_accessed_date'], relationships={<NodeRelationship.SOURCE: '1'>: RelatedNodeInfo(node_id='afc37d27-1b7a-4bb4-af36-4aeb9c5036b3', node_type='4', metadata={'file_path': \"D:\\\\projects\\\\graphrag-poc\\\\data\\\\selection 1\\\\A Student's Guide to Startups (HIVE).txt\", 'file_name': \"A Student's Guide to Startups (HIVE).txt\", 'file_type': 'text/plain', 'file_size': 35856, 'creation_date': '2024-11-26', 'last_modified_date': '2024-11-20'}, hash='c93d2695e878542a3875974944596c8b180c2788d87dcb71a104c6ec2a8753c2'), <NodeRelationship.PREVIOUS: '2'>: RelatedNodeInfo(node_id='1051ad20-7f51-40ef-bda0-192af6399fa1', node_type='1', metadata={'file_path': \"D:\\\\projects\\\\graphrag-poc\\\\data\\\\selection 1\\\\A Student's Guide to Startups (HIVE).txt\", 'file_name': \"A Student's Guide to Startups (HIVE).txt\", 'file_type': 'text/plain', 'file_size': 35856, 'creation_date': '2024-11-26', 'last_modified_date': '2024-11-20'}, hash='3cc3de9fc229e67bfe41382a1f0ce2730ccb675bb91b435d1a14771f0158181a'), <NodeRelationship.NEXT: '3'>: RelatedNodeInfo(node_id='ac79e3b8-7604-40f7-9541-33c119456646', node_type='1', metadata={}, hash='ad215a98214335ccc7d8c93d2cf882ba6ed1433d287bc58de7bd54a049807684')}, metadata_template='{key}: {value}', metadata_separator='\\n', text=\"And that is another area where undergrads have an edge. They're surrounded by people willing to say that. At a good college you're concentrated together with a lot of other ambitious and technically minded peopleâ€”probably more concentrated than you'll ever be again. If your nucleus spits out a neutron, there's a good chance it will hit another nucleus. The number one question people ask us at Y Combinator is: Where can I find a co-founder? That's the biggest problem for someone starting a startup at 30. When they were in school they knew a lot of good co-founders, but by 30 they've either lost touch with them or these people are tied down by jobs they don't want to leave. Viaweb was an anomaly in this respect too. Though we were comparatively old, we weren't tied down by impressive jobs. I was trying to be an artist, which is not very constraining, and Robert, though 29, was still in grad school due to a little interruption in his academic career back in 1988. So arguably the Worm made Viaweb possible. Otherwise Robert would have been a junior professor at that age, and he wouldn't have had time to work on crazy speculative projects with me. Most of the questions people ask Y Combinator we have some kind of answer for, but not the co-founder question. There is no good answer. Co-founders really should be people you already know. And by far the best place to meet them is school. You have a large sample of smart people; you get to compare how they all perform on identical tasks; and everyone's life is pretty fluid. A lot of startups grow out of schools for this reason. Google, Yahoo, and Microsoft, among others, were all founded by people who met in school. (In Microsoft's case, it was high school.) Many students feel they should wait and get a little more experience before they start a company. All other things being equal, they should. But all other things are not quite as equal as they look. Most students don't realize how rich they are in the scarcest ingredient in startups, co-founders. If you wait too long, you may find that your friends are now involved in some project they don't want to abandon. The better they are, the more likely this is to happen. One way to mitigate this problem might be to actively plan your startup while you're getting those n years of experience. Sure, go off and get jobs or go to grad school or whatever, but get together regularly to scheme, so the idea of starting a startup stays alive in everyone's brain. I don't know if this works, but it can't hurt to try. It would be helpful just to realize what an advantage you have as students. Some of your classmates are probably going to be successful startup founders; at a great technical university, that is a near certainty. So which ones? If I were you I'd look for the people who are not just smart, but incurable builders Look for the people who keep starting projects, and finish at least some of them. That's what we look for. Above all else, above academic credentials and even the idea you apply with, we look for people who build things. The other place co-founders meet is at work. Fewer do than at school, but there are things you can do to improve the odds. The most important, obviously, is to work somewhere that has a lot of smart, young people. Another is to work for a company located in a startup hub. It will be easier to talk a co-worker into quitting with you in a place where startups are happening all around you. You might also want to look at the employment agreement you sign when you get hired. Most will say that any ideas you think of while you're employed by the company belong to them. In practice it's hard for anyone to prove what ideas you had when, so the line gets drawn at code. If you're going to start a startup, don't write any of the code while you're still employed. Or at least discard any code you wrote while still employed and start over. It's not so much that your employer will find out and sue you. It won't come to that; investors or acquirers or (if you're so lucky) underwriters will nail you first. Between t = 0 and when you buy that yacht, someone is going to ask if any of your code legally belongs to anyone else, and you need to be able to say no.\", mimetype='text/plain', start_char_idx=12901, end_char_idx=17131, metadata_seperator='\\n', text_template='{metadata_str}\\n\\n{content}'), score=1.0),\n",
       " NodeWithScore(node=TextNode(id_='96207c4a-da81-403c-b95d-8eeb979840a2', embedding=None, metadata={'file_path': 'D:\\\\projects\\\\graphrag-poc\\\\data\\\\selection 1\\\\Why to Not Not Start a Startup (HIVE).txt', 'file_name': 'Why to Not Not Start a Startup (HIVE).txt', 'file_type': 'text/plain', 'file_size': 34381, 'creation_date': '2024-11-26', 'last_modified_date': '2024-11-20'}, excluded_embed_metadata_keys=['file_name', 'file_type', 'file_size', 'creation_date', 'last_modified_date', 'last_accessed_date'], excluded_llm_metadata_keys=['file_name', 'file_type', 'file_size', 'creation_date', 'last_modified_date', 'last_accessed_date'], relationships={<NodeRelationship.SOURCE: '1'>: RelatedNodeInfo(node_id='881c664d-f309-46c8-9366-61bba481e3b5', node_type='4', metadata={'file_path': 'D:\\\\projects\\\\graphrag-poc\\\\data\\\\selection 1\\\\Why to Not Not Start a Startup (HIVE).txt', 'file_name': 'Why to Not Not Start a Startup (HIVE).txt', 'file_type': 'text/plain', 'file_size': 34381, 'creation_date': '2024-11-26', 'last_modified_date': '2024-11-20'}, hash='c653167dc4d2714b85465481c743672fb5fc444455fb2383cc06821e44375f7d'), <NodeRelationship.PREVIOUS: '2'>: RelatedNodeInfo(node_id='04204c0b-5b27-486c-806b-97b8839570f1', node_type='1', metadata={'file_path': 'D:\\\\projects\\\\graphrag-poc\\\\data\\\\selection 1\\\\Why to Not Not Start a Startup (HIVE).txt', 'file_name': 'Why to Not Not Start a Startup (HIVE).txt', 'file_type': 'text/plain', 'file_size': 34381, 'creation_date': '2024-11-26', 'last_modified_date': '2024-11-20'}, hash='9dd950853bef77d1537bae000fffaa87bd5d7cfbbdfa422c50d6e2a84c02bc6f'), <NodeRelationship.NEXT: '3'>: RelatedNodeInfo(node_id='ca89c7f4-d455-449c-9dcb-645190dc9d31', node_type='1', metadata={}, hash='3a1679c4858250adda5abf65db667fc8f6d7716b62f398c70bb3c152bb1bf500')}, metadata_template='{key}: {value}', metadata_separator='\\n', text='One is that I\\'m motivated to be honest. Most people in the confidence-building business have already achieved their goal when you buy the book or pay to attend the seminar where they tell you how great you are. Whereas if I encourage people to start startups who shouldn\\'t, I make my own life worse. If I encourage too many people to apply to Y Combinator, it just means more work for me, because I have to read all the applications. The other thing that\\'s going to be different is my approach. Instead of being positive, I\\'m going to be negative. Instead of telling you \"come on, you can do it\" I\\'m going to consider all the reasons you aren\\'t doing it, and show why most (but not all) should be ignored. We\\'ll start with the one everyone\\'s born with. 1. Too young A lot of people think they\\'re too young to start a startup. Many are right. The median age worldwide is about 27, so probably a third of the population can truthfully say they\\'re too young. What\\'s too young? One of our goals with Y Combinator was to discover the lower bound on the age of startup founders. It always seemed to us that investors were too conservative hereâ€”that they wanted to fund professors, when really they should be funding grad students or even undergrads. The main thing we\\'ve discovered from pushing the edge of this envelope is not where the edge is, but how fuzzy it is. The outer limit may be as low as 16. We don\\'t look beyond 18 because people younger than that can\\'t legally enter into contracts. But the most successful founder we\\'ve funded so far, Sam Altman, was 19 at the time. Sam Altman, however, is an outlying data point. When he was 19, he seemed like he had a 40 year old inside him. There are other 19 year olds who are 12 inside. There\\'s a reason we have a distinct word \"adult\" for people over a certain age. There is a threshold you cross. It\\'s conventionally fixed at 21, but different people cross it at greatly varying ages. You\\'re old enough to start a startup if you\\'ve crossed this threshold, whatever your age. How do you tell? There are a couple tests adults use. I realized these tests existed after meeting Sam Altman, actually. I noticed that I felt like I was talking to someone much older. Afterward I wondered, what am I even measuring? What made him seem older? One test adults use is whether you still have the kid flake reflex. When you\\'re a little kid and you\\'re asked to do something hard, you can cry and say \"I can\\'t do it\" and the adults will probably let you off. As a kid there\\'s a magic button you can press by saying \"I\\'m just a kid\" that will get you out of most difficult situations. Whereas adults, by definition, are not allowed to flake. They still do, of course, but when they do they\\'re ruthlessly pruned. The other way to tell an adult is by how they react to a challenge. Someone who\\'s not yet an adult will tend to respond to a challenge from an adult in a way that acknowledges their dominance. If an adult says \"that\\'s a stupid idea,\" a kid will either crawl away with his tail between his legs, or rebel. But rebelling presumes inferiority as much as submission. The adult response to \"that\\'s a stupid idea,\" is simply to look the other person in the eye and say \"Really? Why do you think so?\" There are a lot of adults who still react childishly to challenges, of course. What you don\\'t often find are kids who react to challenges like adults. When you do, you\\'ve found an adult, whatever their age. 2. Too inexperienced I once wrote that startup founders should be at least 23, and that people should work for another company for a few years before starting their own. I no longer believe that, and what changed my mind is the example of the startups we\\'ve funded. I still think 23 is a better age than 21. But the best way to get experience if you\\'re 21 is to start a startup. So, paradoxically, if you\\'re too inexperienced to start a startup, what you should do is start one. That\\'s a way more efficient cure for inexperience than a normal job.', mimetype='text/plain', start_char_idx=4356, end_char_idx=8354, metadata_seperator='\\n', text_template='{metadata_str}\\n\\n{content}'), score=1.0),\n",
       " NodeWithScore(node=TextNode(id_='8999a0b9-d755-4761-acca-d90f1e10f808', embedding=None, metadata={'file_path': 'D:\\\\projects\\\\graphrag-poc\\\\data\\\\selection 1\\\\How to Start Google (HIVE).txt', 'file_name': 'How to Start Google (HIVE).txt', 'file_type': 'text/plain', 'file_size': 15570, 'creation_date': '2024-11-26', 'last_modified_date': '2024-11-20'}, excluded_embed_metadata_keys=['file_name', 'file_type', 'file_size', 'creation_date', 'last_modified_date', 'last_accessed_date'], excluded_llm_metadata_keys=['file_name', 'file_type', 'file_size', 'creation_date', 'last_modified_date', 'last_accessed_date'], relationships={<NodeRelationship.SOURCE: '1'>: RelatedNodeInfo(node_id='c51e4675-0b92-419d-bffa-7794c5c80c81', node_type='4', metadata={'file_path': 'D:\\\\projects\\\\graphrag-poc\\\\data\\\\selection 1\\\\How to Start Google (HIVE).txt', 'file_name': 'How to Start Google (HIVE).txt', 'file_type': 'text/plain', 'file_size': 15570, 'creation_date': '2024-11-26', 'last_modified_date': '2024-11-20'}, hash='a478d936bcf9417085d495f3496c8148d8ac3444b194eb3de1ccf59db6abb13f'), <NodeRelationship.NEXT: '3'>: RelatedNodeInfo(node_id='1ab85d32-0953-4448-bdca-518b0b91e1d6', node_type='1', metadata={}, hash='8aacb90922a9cbcc704200c77cd60b881cbfd2ce7fc1714cba6472b888d71962')}, metadata_template='{key}: {value}', metadata_separator='\\n', text='March 2024 (This is a talk I gave to 14 and 15 year olds about what to do now if they might want to start a startup later. Lots of schools think they should tell students something about startups. This is what I think they should tell them.) Most of you probably think that when you\\'re released into the so-called real world you\\'ll eventually have to get some kind of job. That\\'s not true, and today I\\'m going to talk about a trick you can use to avoid ever having to get a job. The trick is to start your own company. So it\\'s not a trick for avoiding work , because if you start your own company you\\'ll work harder than you would if you had an ordinary job. But you will avoid many of the annoying things that come with a job, including a boss telling you what to do. It\\'s more exciting to work on your own project than someone else\\'s. And you can also get a lot richer. In fact, this is the standard way to get really rich If you look at the lists of the richest people that occasionally get published in the press, nearly all of them did it by starting their own companies. Starting your own company can mean anything from starting a barber shop to starting Google. I\\'m here to talk about one extreme end of that continuum. I\\'m going to tell you how to start Google. The companies at the Google end of the continuum are called startups when they\\'re young. The reason I know about them is that my wife Jessica and I started something called Y Combinator that is basically a startup factory. Since 2005, Y Combinator has funded over 4000 startups. So we know exactly what you need to start a startup, because we\\'ve helped people do it for the last 19 years. You might have thought I was joking when I said I was going to tell you how to start Google. You might be thinking \"How could we start Google?\" But that\\'s effectively what the people who did start Google were thinking before they started it. If you\\'d told Larry Page and Sergey Brin, the founders of Google, that the company they were about to start would one day be worth over a trillion dollars, their heads would have exploded. All you can know when you start working on a startup is that it seems worth pursuing. You can\\'t know whether it will turn into a company worth billions or one that goes out of business. So when I say I\\'m going to tell you how to start Google, I mean I\\'m going to tell you how to get to the point where you can start a company that has as much chance of being Google as Google had of being Google. [ 1 ] How do you get from where you are now to the point where you can start a successful startup? You need three things. You need to be good at some kind of technology, you need an idea for what you\\'re going to build, and you need cofounders to start the company with. How do you get good at technology? And how do you choose which technology to get good at? Both of those questions turn out to have the same answer: work on your own projects. Don\\'t try to guess whether gene editing or LLMs or rockets will turn out to be the most valuable technology to know about. No one can predict that. Just work on whatever interests you the most. You\\'ll work much harder on something you\\'re interested in than something you\\'re doing because you think you\\'re supposed to. If you\\'re not sure what technology to get good at, get good at programming. That has been the source of the median startup for the last 30 years, and this is probably not going to change in the next 10. Those of you who are taking computer science classes in school may at this point be thinking, ok, we\\'ve got this sorted. We\\'re already being taught all about programming. But sorry, this is not enough. You have to be working on your own projects, not just learning stuff in classes. You can do well in computer science classes without ever really learning to program. In fact you can graduate with a degree in computer science from a top university and still not be any good at programming. That\\'s why tech companies all make you take a coding test before they\\'ll hire you, regardless of where you went to university or how well you did there. They know grades and exam results prove nothing. If you really want to learn to program, you have to work on your own projects. You learn so much faster that way.', mimetype='text/plain', start_char_idx=0, end_char_idx=4259, metadata_seperator='\\n', text_template='{metadata_str}\\n\\n{content}'), score=0.9890350507823685),\n",
       " NodeWithScore(node=TextNode(id_='d0c92d8f-40bb-48ac-ab52-f08d4dd2bfe2', embedding=None, metadata={'file_path': \"D:\\\\projects\\\\graphrag-poc\\\\data\\\\selection 1\\\\A Student's Guide to Startups (HIVE).txt\", 'file_name': \"A Student's Guide to Startups (HIVE).txt\", 'file_type': 'text/plain', 'file_size': 35856, 'creation_date': '2024-11-26', 'last_modified_date': '2024-11-20'}, excluded_embed_metadata_keys=['file_name', 'file_type', 'file_size', 'creation_date', 'last_modified_date', 'last_accessed_date'], excluded_llm_metadata_keys=['file_name', 'file_type', 'file_size', 'creation_date', 'last_modified_date', 'last_accessed_date'], relationships={<NodeRelationship.SOURCE: '1'>: RelatedNodeInfo(node_id='afc37d27-1b7a-4bb4-af36-4aeb9c5036b3', node_type='4', metadata={'file_path': \"D:\\\\projects\\\\graphrag-poc\\\\data\\\\selection 1\\\\A Student's Guide to Startups (HIVE).txt\", 'file_name': \"A Student's Guide to Startups (HIVE).txt\", 'file_type': 'text/plain', 'file_size': 35856, 'creation_date': '2024-11-26', 'last_modified_date': '2024-11-20'}, hash='c93d2695e878542a3875974944596c8b180c2788d87dcb71a104c6ec2a8753c2'), <NodeRelationship.PREVIOUS: '2'>: RelatedNodeInfo(node_id='1dd051e9-e824-451c-b8dd-0cf7a5367ed1', node_type='1', metadata={'file_path': \"D:\\\\projects\\\\graphrag-poc\\\\data\\\\selection 1\\\\A Student's Guide to Startups (HIVE).txt\", 'file_name': \"A Student's Guide to Startups (HIVE).txt\", 'file_type': 'text/plain', 'file_size': 35856, 'creation_date': '2024-11-26', 'last_modified_date': '2024-11-20'}, hash='2efd07cfde15665e78e5f8d68b4e5b0684d0f7c96616122888b4b6fdb2a50d95'), <NodeRelationship.NEXT: '3'>: RelatedNodeInfo(node_id='9149ef6b-50ae-47f8-b001-0210765b4ce5', node_type='1', metadata={}, hash='f6a145ab55c2f9fd0e0805ddd2117f8c156b4a5127dc09dcf5a25447e96870c4')}, metadata_template='{key}: {value}', metadata_separator='\\n', text=\"What's the equivalent for startups? How do you keep your options maximally open? One thing you can do while you're still in school is to learn how startups work. Unfortunately that's not easy. Few if any colleges have classes about startups. There may be business school classes on entrepreneurship, as they call it over there, but these are likely to be a waste of time. Business schools like to talk about startups, but philosophically they're at the opposite end of the spectrum. Most books on startups also seem to be useless. I've looked at a few and none get it right. Books in most fields are written by people who know the subject from experience, but for startups there's a unique problem: by definition the founders of successful startups don't need to write books to make money. As a result most books on the subject end up being written by people who don't understand it. So I'd be skeptical of classes and books. The way to learn about startups is by watching them in action, preferably by working at one. How do you do that as an undergrad? Probably by sneaking in through the back door. Just hang around a lot and gradually start doing things for them. Most startups are (or should be) very cautious about hiring. Every hire increases the burn rate, and bad hires early on are hard to recover from. However, startups usually have a fairly informal atmosphere, and there's always a lot that needs to be done. If you just start doing stuff for them, many will be too busy to shoo you away. You can thus gradually work your way into their confidence, and maybe turn it into an official job later, or not, whichever you prefer. This won't work for all startups, but it would work for most I've known. Number two, make the most of the great advantage of school: the wealth of co-founders. Look at the people around you and ask yourself which you'd like to work with. When you apply that test, you may find you get surprising results. You may find you'd prefer the quiet guy you've mostly ignored to someone who seems impressive but has an attitude to match. I'm not suggesting you suck up to people you don't really like because you think one day they'll be successful. Exactly the opposite, in fact: you should only start a startup with someone you like, because a startup will put your friendship through a stress test. I'm just saying you should think about who you really admire and hang out with them, instead of whoever circumstances throw you together with. Another thing you can do is learn skills that will be useful to you in a startup. These may be different from the skills you'd learn to get a job. For example, thinking about getting a job will make you want to learn programming languages you think employers want, like Java and C++. Whereas if you start a startup, you get to pick the language, so you have to think about which will actually let you get the most done. If you use that test you might end up learning Ruby or Python instead. But the most important skill for a startup founder isn't a programming technique. It's a knack for understanding users and figuring out how to give them what they want. I know I repeat this, but that's because it's so important. And it's a skill you can learn, though perhaps habit might be a better word. Get into the habit of thinking of software as having users. What do those users want? What would make them say wow? This is particularly valuable for undergrads, because the concept of users is missing from most college programming classes. The way you get taught programming in college would be like teaching writing as grammar, without mentioning that its purpose is to communicate something to an audience. Fortunately an audience for software is now only an http request away. So in addition to the programming you do for your classes, why not build some kind of website people will find useful? At the very least it will teach you how to write software with users. In the best case, it might not just be preparation for a startup, but the startup itself, like it was for Yahoo and Google. Notes [ 1 ] Even the desire to protect one's children seems weaker, judging from things people have historically done to their kids rather than risk their community's disapproval. (I assume we still do things that will be regarded in the future as barbaric, but historical abuses are easier for us to see.) [ 2 ] Worrying that Y Combinator makes founders move for 3 months also suggests one underestimates how hard it is to start a startup.\", mimetype='text/plain', start_char_idx=30286, end_char_idx=34792, metadata_seperator='\\n', text_template='{metadata_str}\\n\\n{content}'), score=0.9862896026679692),\n",
       " NodeWithScore(node=TextNode(id_='526a39ea-125b-4b2b-bf72-636f37c95a2f', embedding=None, metadata={'file_path': 'D:\\\\projects\\\\graphrag-poc\\\\data\\\\selection 1\\\\The Future of Web Startups (HIVE).txt', 'file_name': 'The Future of Web Startups (HIVE).txt', 'file_type': 'text/plain', 'file_size': 19447, 'creation_date': '2024-11-26', 'last_modified_date': '2024-11-20'}, excluded_embed_metadata_keys=['file_name', 'file_type', 'file_size', 'creation_date', 'last_modified_date', 'last_accessed_date'], excluded_llm_metadata_keys=['file_name', 'file_type', 'file_size', 'creation_date', 'last_modified_date', 'last_accessed_date'], relationships={<NodeRelationship.SOURCE: '1'>: RelatedNodeInfo(node_id='d2326eca-a353-4b2f-a620-c7835a96cdae', node_type='4', metadata={'file_path': 'D:\\\\projects\\\\graphrag-poc\\\\data\\\\selection 1\\\\The Future of Web Startups (HIVE).txt', 'file_name': 'The Future of Web Startups (HIVE).txt', 'file_type': 'text/plain', 'file_size': 19447, 'creation_date': '2024-11-26', 'last_modified_date': '2024-11-20'}, hash='9b84b6211bd72153611ac3baca0fb2369e13af25041f61217c19556649b05b81'), <NodeRelationship.PREVIOUS: '2'>: RelatedNodeInfo(node_id='16e2f84c-3706-41cc-ac20-85ca91c0c76c', node_type='1', metadata={'file_path': 'D:\\\\projects\\\\graphrag-poc\\\\data\\\\selection 1\\\\The Future of Web Startups (HIVE).txt', 'file_name': 'The Future of Web Startups (HIVE).txt', 'file_type': 'text/plain', 'file_size': 19447, 'creation_date': '2024-11-26', 'last_modified_date': '2024-11-20'}, hash='81ace29762dbcd4c0befbc21fc55fe57796a8007f812c7dc6189a50dc81249c6'), <NodeRelationship.NEXT: '3'>: RelatedNodeInfo(node_id='1b9cbdee-1d46-44b8-b207-a0511469434c', node_type='1', metadata={}, hash='449364caf3456c554944ac1a8187f8a81684dc93ff647d9ff7db6efd0b5e6484')}, metadata_template='{key}: {value}', metadata_separator='\\n', text='The question is not whether you need it, but whether it brings any advantage at all. Because anything that brings an advantage will give your competitors an advantage over you if they do it and you don\\'t. So if you hear someone saying \"we don\\'t need to be in Silicon Valley,\" that use of the word \"need\" is a sign they\\'re not even thinking about the question right. And while startup hubs are as powerful magnets as ever, the increasing cheapness of starting a startup means the particles they\\'re attracting are getting lighter. A startup now can be just a pair of 22 year old guys. A company like that can move much more easily than one with 10 people, half of whom have kids. We know because we make people move for Y Combinator, and it doesn\\'t seem to be a problem. The advantage of being able to work together face to face for three months outweighs the inconvenience of moving. Ask anyone who\\'s done it. The mobility of seed-stage startups means that seed funding is a national business. One of the most common emails we get is from people asking if we can help them set up a local clone of Y Combinator. But this just wouldn\\'t work. Seed funding isn\\'t regional, just as big research universities aren\\'t. Is seed funding not merely national, but international? Interesting question. There are signs it may be. We\\'ve had an ongoing stream of founders from outside the US, and they tend to do particularly well, because they\\'re all people who were so determined to succeed that they were willing to move to another country to do it. The more mobile startups get, the harder it would be to start new silicon valleys. If startups are mobile, the best local talent will go to the real Silicon Valley, and all they\\'ll get at the local one will be the people who didn\\'t have the energy to move. This is not a nationalistic idea, incidentally. It\\'s cities that compete, not countries. Atlanta is just as hosed as Munich. 7. Better Judgement Needed If the number of startups increases dramatically, then the people whose job is to judge them are going to have to get better at it. I\\'m thinking particularly of investors and acquirers. We now get on the order of 1000 applications a year. What are we going to do if we get 10,000? That\\'s actually an alarming idea. But we\\'ll figure out some kind of answer. We\\'ll have to. It will probably involve writing some software, but fortunately we can do that. Acquirers will also have to get better at picking winners. They generally do better than investors, because they pick later, when there\\'s more performance to measure. But even at the most advanced acquirers, identifying companies to buy is extremely ad hoc, and completing the acquisition often involves a great deal of unneccessary friction. I think acquirers may eventually have chief acquisition officers who will both identify good acquisitions and make the deals happen. At the moment those two functions are separate. Promising new startups are often discovered by developers. If someone powerful enough wants to buy them, the deal is handed over to corp dev guys to negotiate. It would be better if both were combined in one group, headed by someone with a technical background and some vision of what they wanted to accomplish. Maybe in the future big companies will have both a VP of Engineering responsible for technology developed in-house, and a CAO responsible for bringing technology in from outside. At the moment, there is no one within big companies who gets in trouble when they buy a startup for $200 million that they could have bought earlier for $20 million. There should start to be someone who gets in trouble for that. 8. College Will Change If the best hackers start their own companies after college instead of getting jobs, that will change what happens in college. Most of these changes will be for the better. I think the experience of college is warped in a bad way by the expectation that afterward you\\'ll be judged by potential employers. One change will be in the meaning of \"after college,\" which will switch from when one graduates from college to when one leaves it. If you\\'re starting your own company, why do you need a degree? We don\\'t encourage people to start startups during college, but the best founders are certainly capable of it. Some of the most successful companies we\\'ve funded were started by undergrads. I grew up in a time where college degrees seemed really important, so I\\'m alarmed to be saying things like this, but there\\'s nothing magical about a degree.', mimetype='text/plain', start_char_idx=9163, end_char_idx=13673, metadata_seperator='\\n', text_template='{metadata_str}\\n\\n{content}'), score=0.9860032675885534)]"
      ]
     },
     "execution_count": 16,
     "metadata": {},
     "output_type": "execute_result"
    }
   ],
   "source": [
    "retriever.retrieve(\"Tell me about Y Combinator\")"
   ]
  },
  {
   "cell_type": "code",
   "execution_count": 1,
   "metadata": {},
   "outputs": [],
   "source": [
    "from neo4j import GraphDatabase\n",
    "\n",
    "# Demo database credentials\n",
    "URI = \"bolt://localhost:7687\"\n",
    "AUTH = (\"neo4j\", \"12345678\")\n",
    "# Connect to Neo4j database\n",
    "driver = GraphDatabase.driver(URI, auth=AUTH, database=\"graphrag-openai-custom-extractor-prompt-gemini\")\n"
   ]
  },
  {
   "cell_type": "code",
   "execution_count": null,
   "metadata": {},
   "outputs": [],
   "source": [
    "from neo4j_graphrag.retrievers import HybridCypherRetriever"
   ]
  }
 ],
 "metadata": {
  "kernelspec": {
   "display_name": ".venv",
   "language": "python",
   "name": "python3"
  },
  "language_info": {
   "codemirror_mode": {
    "name": "ipython",
    "version": 3
   },
   "file_extension": ".py",
   "mimetype": "text/x-python",
   "name": "python",
   "nbconvert_exporter": "python",
   "pygments_lexer": "ipython3",
   "version": "3.11.7"
  }
 },
 "nbformat": 4,
 "nbformat_minor": 2
}
